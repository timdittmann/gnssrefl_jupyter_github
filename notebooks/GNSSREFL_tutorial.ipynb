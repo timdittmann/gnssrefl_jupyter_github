{
 "cells": [
  {
   "cell_type": "code",
   "execution_count": 7,
   "id": "9d7bb8cc",
   "metadata": {},
   "outputs": [],
   "source": [
    "import os\n",
    "import sys\n",
    "import re\n",
    "import json                                       \n",
    "import gnssrefl.gps as g\n",
    "import gnssrefl.rinex2snr as rnx\n",
    "import gnssrefl.quickLook_function as quick\n",
    "import gnssrefl.gnssir as guts\n",
    "import matplotlib.pyplot as plt\n",
    "import pandas as pd \n",
    "import numpy as np\n",
    "import seaborn as sns; sns.set_theme(style=\"whitegrid\");\n",
    "\n",
    "from datetime import datetime\n",
    "\n",
    "# We are including our bin to the system path so that we can impor the following python modules\n",
    "bin_path = os.path.abspath(os.path.join('../bin'))\n",
    "if bin_path not in sys.path:\n",
    "    sys.path.append(bin_path)\n",
    "    \n",
    "import check_parameters \n",
    "import environment\n",
    "\n",
    "%matplotlib inline"
   ]
  },
  {
   "cell_type": "markdown",
   "id": "66962567",
   "metadata": {},
   "source": [
    "# GNSSREFL Functions"
   ]
  },
  {
   "cell_type": "markdown",
   "id": "a5b8f0e1",
   "metadata": {},
   "source": [
    "## Requirements"
   ]
  },
  {
   "cell_type": "markdown",
   "id": "b0bdbee3",
   "metadata": {},
   "source": [
    "### Environment Variables"
   ]
  },
  {
   "cell_type": "markdown",
   "id": "5499cfce",
   "metadata": {},
   "source": [
    "You should define three environment variables:\n",
    "\n",
    "\n",
    "* EXE = where various RINEX executables will live.\n",
    "\n",
    "\n",
    "* ORBITS = where the GPS/GNSS orbits will be stored. They will be listed under directories by\n",
    "year and sp3 or nav depending on the orbit format.\n",
    "\n",
    "\n",
    "* REFL_CODE = where the reflection code inputs (SNR files and instructions) and outputs (RH)\n",
    "will be stored (see below). Both SNR files and results will be saved here in year subdirectories.\n",
    "\n",
    "The orbits, SNR files, and periodogram results are stored in\n",
    "directories in year, followed by type, i.e. snr, results, sp3, nav, and then by station name."
   ]
  },
  {
   "cell_type": "code",
   "execution_count": 2,
   "id": "cd89d7e3",
   "metadata": {},
   "outputs": [
    {
     "name": "stdout",
     "output_type": "stream",
     "text": [
      "environment variable ORBITS path is /Users/enloe/UNAVCO_Projects/git/gnssrefl_jupyter/orbits \n",
      "environment variable REFL_CODE path is /Users/enloe/UNAVCO_Projects/git/gnssrefl_jupyter \n",
      "environment variable EXE path is /Users/enloe/UNAVCO_Projects/git/gnssrefl_jupyter/bin/exe\n"
     ]
    }
   ],
   "source": [
    "#environment variables are set\n",
    "exists = environment.check_environment()\n",
    "if exists == False:\n",
    "    # environment.set_environment will set the envrionment for you. \n",
    "    # If you pass in no other parameters it will assume that this notebook is in the repository structure from gitlab.\n",
    "    # you can instead also pass in optional parameters, orbits, refl_code, and exe to specify specific paths.\n",
    "    environment.set_environment()\n",
    "else:\n",
    "     print('environment variable ORBITS path is', os.environ['ORBITS'],\n",
    "          '\\nenvironment variable REFL_CODE path is', os.environ['REFL_CODE'],\n",
    "          '\\nenvironment variable EXE path is', os.environ['EXE'])\n",
    "        "
   ]
  },
  {
   "cell_type": "markdown",
   "id": "e2cda258",
   "metadata": {},
   "source": [
    "### Translator for Hatanaka RINEX Files"
   ]
  },
  {
   "cell_type": "markdown",
   "id": "b2faa905",
   "metadata": {},
   "source": [
    "*All executables must be stored in the EXE directory*.\n",
    "\n",
    "The only required executable is the translator for compressed (Hatanaka) RINEX files - CRX2RNX (http://terras.gsi.go.jp/ja/crx2rnx.html).\n",
    "\n",
    "We have created a function that will download this for you depending on your operating system.\n",
    "The current supported systems are MacOS, Linux, SunOS, and Windows.\n",
    "Note that you must have set the environment variable for EXE or this will not know where to download the executable.\n",
    "You can set the path you would like to download the file using the parameter path_to_executables='path'. \n",
    "This will reset the EXE executable to this path as well."
   ]
  },
  {
   "cell_type": "code",
   "execution_count": 4,
   "id": "551f928d",
   "metadata": {},
   "outputs": [
    {
     "name": "stdout",
     "output_type": "stream",
     "text": [
      "downloading file\n",
      "file placed in path to execubles set by EXE environment variable\n",
      "cleaning up\n",
      "finished\n",
      "yay, it's there!\n"
     ]
    }
   ],
   "source": [
    "environment.download_crx2rnx()\n",
    "\n",
    "# lets check that this is here:\n",
    "if 'CRX2RNX' in os.listdir(os.environ['EXE']):\n",
    "    print(\"yay, it's there!\")\n",
    "else:\n",
    "    print('oh no.. something went terribly wrong')"
   ]
  },
  {
   "cell_type": "markdown",
   "id": "ca0f38e9",
   "metadata": {},
   "source": [
    "## RINEX2SNR"
   ]
  },
  {
   "cell_type": "markdown",
   "id": "909682fc",
   "metadata": {},
   "source": [
    "### Extracting SNR data from RINEX files\n",
    "\n",
    "The international standard for sharing GNSS data is called the RINEX format.\n",
    "A RINEX file has extraneous information in it (which we will throw out) - and it\n",
    "does not provide some of the information needed for reflectometry (e.g. elevation and azimuth angles).\n",
    "The first task you have in GNSS-IR is to translate from RINEX into what I will call\n",
    "the SNR format. The latter will include azimuth and elevation angles. For the\n",
    "latter you will need an orbit file. **rinex2snr** will go get an orbit file for you."
   ]
  },
  {
   "cell_type": "code",
   "execution_count": 9,
   "id": "2b4a789c",
   "metadata": {},
   "outputs": [],
   "source": [
    "# Lets check out the rinex2snr function - here you will see all the required and optional parameters\n",
    "# this function will take your parameter inputs and return the all the values in the correct format\n",
    "# to pass to the run_rinex2snr from the gnssir code - which will then fetch and translate the file(s)\n",
    "check_parameters.rinex2snr?"
   ]
  },
  {
   "cell_type": "code",
   "execution_count": 10,
   "id": "008f671e",
   "metadata": {},
   "outputs": [
    {
     "name": "stdout",
     "output_type": "stream",
     "text": [
      "Will seek RINEX file  p041  year: 2020  doy: 132  translate with  hybrid\n",
      "-1 / unknown........................................................................] 74957 / 74957\n",
      "\n",
      "SUCCESS: SNR file was created: /Users/enloe/UNAVCO_Projects/git/gnssrefl_jupyter/2020/snr/p041/p0411320.20.snr66\n"
     ]
    }
   ],
   "source": [
    "# For the case of showing how to run this - lets pick a station and a date\n",
    "station = 'P041' # this is a station located on Marshal Mesa in Boulder, CO\n",
    "year = 2020 \n",
    "doy = 132\n",
    "\n",
    "args = check_parameters.rinex2snr(station,year,doy, translator='hybrid')\n",
    "rnx.run_rinex2snr(**args)"
   ]
  },
  {
   "cell_type": "code",
   "execution_count": null,
   "id": "d8574615",
   "metadata": {},
   "outputs": [],
   "source": [
    "# can do several days:"
   ]
  },
  {
   "cell_type": "markdown",
   "id": "139fae69",
   "metadata": {},
   "source": [
    "## QUICKLOOK"
   ]
  },
  {
   "cell_type": "markdown",
   "id": "b6677444",
   "metadata": {},
   "source": [
    "## GNSSIR"
   ]
  },
  {
   "cell_type": "markdown",
   "id": "49fa7a8c",
   "metadata": {},
   "source": [
    "## OTHER"
   ]
  },
  {
   "cell_type": "code",
   "execution_count": null,
   "id": "251434ad",
   "metadata": {},
   "outputs": [],
   "source": []
  }
 ],
 "metadata": {
  "kernelspec": {
   "display_name": "gnssrefl_jupyter",
   "language": "python",
   "name": "gnssrefl_jupyter"
  },
  "language_info": {
   "codemirror_mode": {
    "name": "ipython",
    "version": 3
   },
   "file_extension": ".py",
   "mimetype": "text/x-python",
   "name": "python",
   "nbconvert_exporter": "python",
   "pygments_lexer": "ipython3",
   "version": "3.9.0"
  }
 },
 "nbformat": 4,
 "nbformat_minor": 5
}
