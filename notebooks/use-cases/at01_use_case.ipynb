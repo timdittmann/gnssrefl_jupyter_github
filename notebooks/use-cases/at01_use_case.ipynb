{
 "cells": [
  {
   "cell_type": "markdown",
   "id": "6e2bd2cc",
   "metadata": {},
   "source": [
    "### St Michael Bay\n",
    "\n",
    "**Station Name:**  at01\n",
    "\n",
    "**Location:**  St Michael, Alaska\n",
    "\n",
    "**Archive:**  [UNAVCO](http://www.unavco.org)\n",
    "\n",
    "**Ellipsoidal Coordinates:**\n",
    "\n",
    "- Latitude:  63.4840\n",
    "\n",
    "- Longitude: -162.0064\n",
    "\n",
    "- Height: 21.7 m\n",
    "\n",
    "[Station Page at UNAVCO](https://www.unavco.org/instrumentation/networks/status/nota/overview/AT01)\n",
    "\n",
    "[Station Page at Nevada Geodetic Laboratory](http://geodesy.unr.edu/NGLStationPages/stations/AT01.sta)\n",
    "\n",
    "[Google Map Link](https://goo.gl/maps/uWyoNFf4DRjYLmfUA)\n",
    "\n",
    "<p align=\"center\">\n",
    "<img src=\"https://www.unavco.org/data/gps-gnss/lib/images/station_images/AT01.jpg\" width=\"500\">\n",
    "</p>"
   ]
  },
  {
   "cell_type": "markdown",
   "id": "d14d2139",
   "metadata": {},
   "source": [
    "## Data Summary\n",
    "\n",
    "at01 has good visibility over a large azimuthal region and the monument is about a meter taller than normal geodetic monuments which helps improve visibility of the sea surface. At01 observes all constellation signals.\n",
    "\n",
    "## Imports"
   ]
  },
  {
   "cell_type": "code",
   "execution_count": null,
   "id": "c85f97c4",
   "metadata": {},
   "outputs": [],
   "source": [
    "import os\n",
    "import sys\n",
    "import re\n",
    "import json\n",
    "import pandas as pd \n",
    "import numpy as np\n",
    "import seaborn as sns; sns.set_theme(style=\"whitegrid\");\n",
    "import matplotlib.pyplot as plt\n",
    "import datetime\n",
    "\n",
    "# import gnssrefl functions\n",
    "from gnssrefl.rinex2snr_cl import rinex2snr \n",
    "from gnssrefl.quickLook_cl import quicklook\n",
    "from gnssrefl.make_json_input import make_json\n",
    "from gnssrefl.gnssir_cl import gnssir\n",
    "from gnssrefl.daily_avg_cl import daily_avg\n",
    "from gnssrefl.subdaily_cl import subdaily\n",
    "\n",
    "# We are including our repository bin to the system path so that we can import the following python modules\n",
    "bin_path = os.path.abspath(os.path.join('../../bin'))\n",
    "if bin_path not in sys.path:\n",
    "    sys.path.append(bin_path)\n",
    "    \n",
    "import gnssrefl_helpers\n",
    "\n",
    "%matplotlib inline"
   ]
  },
  {
   "cell_type": "code",
   "execution_count": null,
   "id": "3635d078",
   "metadata": {},
   "outputs": [],
   "source": [
    "#Making sure environment variables are set - this is required to run the gnssrefl code\n",
    "exists = gnssrefl_helpers.check_environment()\n",
    "if exists == False:\n",
    "    gnssrefl_helpers.set_environment()\n",
    "        \n",
    "refl_code_loc = os.environ['REFL_CODE']\n",
    "# import the crx2rnx file which is dependant on your working OS - this is required to run the gnssrefl code\n",
    "# If in docker environment, then you do not need to download crxnrnx\n",
    "try:\n",
    "    os.environ['DOCKER']\n",
    "except KeyError:\n",
    "    gnssrefl_helpers.download_crx2rnx()"
   ]
  },
  {
   "cell_type": "code",
   "execution_count": null,
   "id": "65fd8a5d",
   "metadata": {},
   "outputs": [],
   "source": [
    "# This is only for these use cases - you can set pltscreen=True in quicklook to print these plots as well\n",
    "def pretty_plots(station, values, frequency, metrics=None):\n",
    "    # plotting the quicklook graph periodograms\n",
    "    fig, axes = plt.subplots(ncols=2, nrows=2, figsize=(12,10), sharex=True)\n",
    "    fig.suptitle(f'QuickLook: {station},{frequency}', size=16)\n",
    "\n",
    "    quadrants = ['NW', 'NE', 'SW', 'SE']\n",
    "    quadrant_labels = ['Northwest','Northeast', 'Southwest', 'Southeast']\n",
    "\n",
    "    for i, ax in enumerate(axes.flat):\n",
    "        quad = quadrants[i]\n",
    "        for fail_satellite in values[f'f{quad}']:\n",
    "            g = sns.lineplot(x=values[f'f{quad}'][fail_satellite][0],\n",
    "                             y=values[f'f{quad}'][fail_satellite][1],\n",
    "                             ax=ax, color='lightgrey')\n",
    "        for satellite in values[quad]:\n",
    "            g = sns.lineplot(x=values[quad][satellite][0],\n",
    "                             y=values[quad][satellite][1],\n",
    "                             ax=ax)\n",
    "        g.set_title(quadrant_labels[i])\n",
    "        g.set_ylabel('volts/volts')\n",
    "        g.set_xlabel('reflector height (m)')\n",
    "\n",
    "    if metrics:\n",
    "        success, fail = gnssrefl_helpers.quicklook_metrics(metrics)\n",
    "        fig, axes = plt.subplots(ncols=1, nrows=3, figsize=(10,10), sharex=True)\n",
    "        fig.suptitle(f'QuickLook Retrieval Metrics: {station}, {frequency}', size=16)\n",
    "\n",
    "        for i, ax in enumerate(axes):\n",
    "            g = sns.scatterplot(x='Azimuth',y=success.columns[i+1], data=success, ax=ax, label='good')\n",
    "            g = sns.scatterplot(x='Azimuth',y=fail.columns[i+1], data=fail, ax=ax, color='lightgrey', label='bad')\n",
    "\n",
    "        axes[0].legend(loc='upper right')\n",
    "\n",
    "        avg_rh = np.mean(success['Reflector Height'])\n",
    "        print(f'Average reflector height value: {avg_rh:.1f}')\n",
    "\n",
    "    plt.tight_layout()\n",
    "    plt.show()"
   ]
  },
  {
   "cell_type": "markdown",
   "id": "8ade15da",
   "metadata": {},
   "source": [
    "# reflecion zone app\n",
    "\n",
    "now we can use the reflection zone part of the web app:"
   ]
  },
  {
   "cell_type": "code",
   "execution_count": null,
   "id": "51cc95a4",
   "metadata": {},
   "outputs": [],
   "source": [
    "%%html\n",
    "<iframe src=\"https://gnss-reflections.org/geoid\" width=\"1000\" height=\"600\"></iframe>"
   ]
  },
  {
   "cell_type": "markdown",
   "id": "83d17c2c",
   "metadata": {},
   "source": [
    "Next, we could look at the reflection zone app to pick a possible mask."
   ]
  },
  {
   "cell_type": "code",
   "execution_count": null,
   "id": "3a06006d",
   "metadata": {},
   "outputs": [],
   "source": [
    "%%html\n",
    "<iframe src=\"https://gnss-reflections.org/rzones\" width=\"1000\" height=\"700\"></iframe>"
   ]
  },
  {
   "cell_type": "markdown",
   "id": "8fa73a59",
   "metadata": {},
   "source": [
    "just looking at this can give us an idea of the possible azimuth mask - Guessing we will not get good retrievals in the northwest quadrant. We will confirm this with the qc plots when we use quicklook.\n",
    "\n",
    "It's also useful to note that it is about 12 meters above sea level."
   ]
  },
  {
   "cell_type": "markdown",
   "id": "2b426759",
   "metadata": {},
   "source": [
    "### Take a Quick Look at the Data\n",
    "First examine the spectral characteristics of the SNR data.\n",
    "\n",
    "First, we download a snr file using rinex2snr. We will pick a year and day - in this case we'll look at day of year 109 for the year 2020. "
   ]
  },
  {
   "cell_type": "code",
   "execution_count": null,
   "id": "5e768669",
   "metadata": {},
   "outputs": [],
   "source": [
    "# Download SNR \n",
    "# we are going to just pick a year and day\n",
    "# this will generate a SNR file at a sampling rate of 15 seconds.\n",
    "station = 'at01'\n",
    "year=2020\n",
    "doy=109\n",
    "\n",
    "rinex2snr(station=station, year=year, doy=doy, archive='unavco', orb='gnss')"
   ]
  },
  {
   "cell_type": "markdown",
   "id": "27026d63",
   "metadata": {},
   "source": [
    "Now we can run quicklook, this is what it will look like if we don't change any of the defualts:"
   ]
  },
  {
   "cell_type": "code",
   "execution_count": null,
   "id": "fd3df6c0",
   "metadata": {},
   "outputs": [],
   "source": [
    "values, metrics = quicklook(station, year, doy=doy, pltscreen=False)\n",
    "pretty_plots(station, values, 'GPS L1', metrics)"
   ]
  },
  {
   "cell_type": "markdown",
   "id": "3b5af95e",
   "metadata": {},
   "source": [
    "Using the default settings with quicklook we would likely think it is not a useful site, as nearly every retrieval is set as bad.\n",
    "\n",
    "Let's see what the defaults are set to by adding a question mark to the function and running that cell."
   ]
  },
  {
   "cell_type": "code",
   "execution_count": null,
   "id": "c7e9390b",
   "metadata": {},
   "outputs": [],
   "source": [
    "quicklook?"
   ]
  },
  {
   "cell_type": "markdown",
   "id": "5f124fc9",
   "metadata": {},
   "source": [
    "Now we can see what the defaults are and information about the parameters in the doc string as well. \n",
    "\n",
    "So, remembering that the site is 12 meters above sea level and we can see that the default restricts the reflector height region to 0.5 to 6 meters. \n",
    "\n",
    "Let's try quicklook again using a reflector height region that includes the water surface. We'll set h1 to 8 and h2 to 15 and we're also going to change the elevation angles to 5 and 13 degrees:"
   ]
  },
  {
   "cell_type": "code",
   "execution_count": null,
   "id": "b2170a39",
   "metadata": {},
   "outputs": [],
   "source": [
    "values, metrics = quicklook(station, year, doy=doy,\n",
    "                                         e1=5, e2=13, h1=8, h2=15, pltscreen=False)\n",
    "\n",
    "pretty_plots(station, values, 'GPS L1', metrics)"
   ]
  },
  {
   "cell_type": "markdown",
   "id": "7ede4ca0",
   "metadata": {},
   "source": [
    "Now we see good retrievals at azimuths from true north to about 220 degrees (around what we expected from using the reflection zone app) and we also see strong retrievals in the Lomb Scargle periodograms.\n",
    "\n",
    "This site does have modern GPS signals, as well as Galileo and Glonass signals."
   ]
  },
  {
   "cell_type": "markdown",
   "id": "2570255d",
   "metadata": {},
   "source": [
    "results for L2C:"
   ]
  },
  {
   "cell_type": "code",
   "execution_count": null,
   "id": "e2e81aa9",
   "metadata": {},
   "outputs": [],
   "source": [
    "values, metrics = quicklook(station, year, doy=doy, \n",
    "                                         e1=5, e2=13, h1=8, h2=15, fr=20, pltscreen=False)\n",
    "\n",
    "pretty_plots(station, values, 'GPS L2C')"
   ]
  },
  {
   "cell_type": "markdown",
   "id": "0d31c240",
   "metadata": {},
   "source": [
    "Now we can look at glonass by setting f to 101 and Galileo we will set f to 205."
   ]
  },
  {
   "cell_type": "code",
   "execution_count": null,
   "id": "6b30bf08",
   "metadata": {},
   "outputs": [],
   "source": [
    "values_l1, metrics_l1 = quicklook(station, year, doy=doy,\n",
    "                                         e1=5, e2=13, h1=8, h2=15, fr=101, pltscreen=False)\n",
    "\n",
    "pretty_plots(station, values_l1, 'GLONASS')\n",
    "\n",
    "values_l2, metrics_l2 = quicklook(station, year, doy=doy,\n",
    "                                         e1=5, e2=13, h1=8, h2=15, fr=205, pltscreen=False)\n",
    "\n",
    "pretty_plots(station, values_l2, 'GALILEO')"
   ]
  },
  {
   "cell_type": "markdown",
   "id": "6b622bf3",
   "metadata": {},
   "source": [
    "### Analyze the Data\n",
    "\n",
    "Next we will analyze data for two months in the fall of 2020. Our first step would be to make the SNR files."
   ]
  },
  {
   "cell_type": "code",
   "execution_count": null,
   "id": "51c61233",
   "metadata": {},
   "outputs": [],
   "source": [
    "rinex2snr?"
   ]
  },
  {
   "cell_type": "code",
   "execution_count": null,
   "id": "8e23603f",
   "metadata": {},
   "outputs": [],
   "source": [
    "rinex2snr(station, year, 230, doy_end=290, archive='unavco', orb='gnss')"
   ]
  },
  {
   "cell_type": "markdown",
   "id": "f4d76d3e",
   "metadata": {},
   "source": [
    "The next step is to create the json file that gnssir reads with the values that we have decided on from the quicklook step. In this case we will set the elevation angles and the heights. We will also set the parameter allfreq to true."
   ]
  },
  {
   "cell_type": "code",
   "execution_count": null,
   "id": "e5be3141",
   "metadata": {},
   "outputs": [],
   "source": [
    "lat = 63.484\n",
    "long = -162.006\n",
    "height = 21.565\n",
    "\n",
    "make_json(station, lat, long, height, e1=5, e2=13, h1=8, h2=15, allfreq=True)"
   ]
  },
  {
   "cell_type": "code",
   "execution_count": null,
   "id": "7d1e5c54",
   "metadata": {},
   "outputs": [],
   "source": [
    "# This is the json file that was created with the defaults/parameters you set above\n",
    "json_file = f'{refl_code_loc}/input/{station}.json'\n",
    "with open(json_file, \"r\") as myfile:\n",
    "    file = json.load(myfile)\n",
    "    \n",
    "file"
   ]
  },
  {
   "cell_type": "markdown",
   "id": "f2bc7c8f",
   "metadata": {},
   "source": [
    "To set the azimuth range that we decided on, we need to edit the json file manually. We are also going to edit out the Beidou signals since they are not in rinex2 files."
   ]
  },
  {
   "cell_type": "code",
   "execution_count": null,
   "id": "a8d76b2d",
   "metadata": {},
   "outputs": [],
   "source": [
    "# Now lets edit the json file\n",
    "with open(json_file, \"r\") as myfile:\n",
    "    file = json.load(myfile)\n",
    "    \n",
    "# Here is where we can 'hand edit' values in the json file\n",
    "# lets edit the azimuths. We set these values by looking at the metrics qc plot above\n",
    "file['azval'] = [20,90,90,180,180,220]\n",
    "file['freqs'] = [1,20,5,101,102,201,205,206,207]\n",
    "os.remove(json_file)\n",
    "\n",
    "with open(json_file, 'w') as f:\n",
    "    json.dump(file, f, indent=4)\n",
    "    \n",
    "# now lets view it again and note the difference\n",
    "with open(json_file, \"r\") as myfile:\n",
    "    file = json.load(myfile)\n",
    "\n",
    "file"
   ]
  },
  {
   "cell_type": "markdown",
   "id": "cef89a4b",
   "metadata": {},
   "source": [
    "Next, we will run gnssir to estimate the reflector height (RH) for the two month time period."
   ]
  },
  {
   "cell_type": "code",
   "execution_count": null,
   "id": "a9410381",
   "metadata": {},
   "outputs": [],
   "source": [
    "year = 2020\n",
    "doy = 230\n",
    "doy_end = 290\n",
    "gnssir(station, year, doy, doy_end=doy_end, screenstats=False)"
   ]
  },
  {
   "cell_type": "markdown",
   "id": "affba962",
   "metadata": {},
   "source": [
    "We have do have some code to help you look at subdaily files. This will be helpful to look at tides. \n",
    "\n",
    "We will set an outlier criteria of 0.36 meters (one sigma 0.12 meters ==> 0.36 meters three sigma) to start with.\n",
    "\n",
    "This preliminary version of the code removes outliers and makes an effort to compute the RH dot correction."
   ]
  },
  {
   "cell_type": "code",
   "execution_count": null,
   "id": "bd6c3a6d",
   "metadata": {
    "scrolled": false
   },
   "outputs": [],
   "source": [
    "tv, corr = subdaily(station='at01', year=2020, doy1=230, doy2=290,\n",
    "                                 outlier=0.36, plt=True)"
   ]
  },
  {
   "cell_type": "code",
   "execution_count": null,
   "id": "5ffe0d5a",
   "metadata": {},
   "outputs": [],
   "source": []
  }
 ],
 "metadata": {
  "kernelspec": {
   "display_name": "gnssrefl_jupyter",
   "language": "python",
   "name": "gnssrefl_jupyter"
  },
  "language_info": {
   "codemirror_mode": {
    "name": "ipython",
    "version": 3
   },
   "file_extension": ".py",
   "mimetype": "text/x-python",
   "name": "python",
   "nbconvert_exporter": "python",
   "pygments_lexer": "ipython3",
   "version": "3.9.8"
  }
 },
 "nbformat": 4,
 "nbformat_minor": 5
}
