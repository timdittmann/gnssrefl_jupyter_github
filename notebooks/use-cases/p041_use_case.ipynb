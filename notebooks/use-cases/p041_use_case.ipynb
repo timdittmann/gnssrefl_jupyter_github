{
 "cells": [
  {
   "cell_type": "markdown",
   "metadata": {},
   "source": [
    "### Marshall, Colorado, USA\n",
    "\n",
    "**Station Name:** p041 \n",
    "\n",
    "**Location:** Boulder, CO, USA\n",
    "\n",
    "**Archive:** [UNAVCO](http://www.unavco.org)\n",
    "\n",
    "**DOI:**  \t[https://doi.org/10.7283/T5R49NQQ](https://doi.org/10.7283/T5R49NQQ)\n",
    "\n",
    "**Ellipsoidal Coordinates:**\n",
    "\n",
    "- Latitude: 39.94949\n",
    "\n",
    "- Longitude: -105.19427\n",
    "\n",
    "- Height: 1728.842 m\n",
    "\n",
    "[Station Page at UNAVCO](https://www.unavco.org/instrumentation/networks/status/nota/overview/P041)\n",
    "\n",
    "[Station Page at Nevada Geodetic Laboratory](http://geodesy.unr.edu/NGLStationPages/stations/P041.sta)\n",
    "\n",
    "[Google Map Link](https://goo.gl/maps/GwGV8PS4CQVQzYHC7) \n",
    "\n",
    "<img src=\"https://gnss-reflections.org/static/images/P041.jpg\" width=\"500\">"
   ]
  },
  {
   "cell_type": "code",
   "execution_count": null,
   "metadata": {
    "ExecuteTime": {
     "end_time": "2022-05-19T15:58:23.721280Z",
     "start_time": "2022-05-19T15:58:19.821363Z"
    },
    "scrolled": true
   },
   "outputs": [],
   "source": [
    "import os\n",
    "import sys\n",
    "import re\n",
    "import json\n",
    "import pandas as pd \n",
    "import numpy as np\n",
    "import seaborn as sns; sns.set_theme(style=\"whitegrid\");\n",
    "import matplotlib.pyplot as plt\n",
    "import datetime\n",
    "\n",
    "# import gnssrefl functions\n",
    "from gnssrefl.rinex2snr_cl import rinex2snr\n",
    "from gnssrefl.rinex2snr import run_rinex2snr\n",
    "from gnssrefl.quickLook_cl import quicklook\n",
    "from gnssrefl.make_json_input import make_json\n",
    "from gnssrefl.gnssir_cl import gnssir\n",
    "from gnssrefl.daily_avg_cl import daily_avg\n",
    "\n",
    "# We are including our repository bin to the system path so that we can import the following python modules\n",
    "bin_path = os.path.abspath(os.path.join('../../bin'))\n",
    "if bin_path not in sys.path:\n",
    "    sys.path.append(bin_path)\n",
    "    \n",
    "# import run_gnssrefl \n",
    "import gnssrefl_helpers\n",
    "\n",
    "%matplotlib inline"
   ]
  },
  {
   "cell_type": "code",
   "execution_count": null,
   "metadata": {
    "ExecuteTime": {
     "end_time": "2022-05-19T15:58:25.297560Z",
     "start_time": "2022-05-19T15:58:23.723514Z"
    }
   },
   "outputs": [],
   "source": [
    "#Making sure environment variables are set\n",
    "exists = gnssrefl_helpers.check_environment()\n",
    "if exists == False:\n",
    "    gnssrefl_helpers.set_environment()\n",
    "else:\n",
    "     print('environment variable ORBITS path is:\\n', os.environ['ORBITS'],\n",
    "          '\\nenvironment variable REFL_CODE path is:\\n', os.environ['REFL_CODE'],\n",
    "          '\\nenvironment variable EXE path is:\\n', os.environ['EXE'])\n",
    "        \n",
    "refl_code_loc = os.environ['REFL_CODE']\n",
    "# import the crx2rnx file which is dependant on your working OS - this is required to run the gnssrefl code\n",
    "try:\n",
    "    os.environ['DOCKER']\n",
    "except KeyError:\n",
    "    gnssrefl_helpers.download_crx2rnx()"
   ]
  },
  {
   "cell_type": "code",
   "execution_count": null,
   "metadata": {
    "ExecuteTime": {
     "end_time": "2022-05-19T15:33:09.151771Z",
     "start_time": "2022-05-19T15:33:09.140354Z"
    }
   },
   "outputs": [],
   "source": [
    "# This is only for these use cases \n",
    "# you can set pltscreen=True in quicklook to print these plots as well\n",
    "\n",
    "def pretty_plots(station, values, frequency,metrics=None):\n",
    "    # plotting the quicklook graph periodograms\n",
    "    fig, axes = plt.subplots(ncols=2, nrows=2, figsize=(12,10), sharex=True)\n",
    "    fig.suptitle(f'QuickLook: {station},{frequency}', size=16)\n",
    "\n",
    "    quadrants = ['NW', 'NE', 'SW', 'SE']\n",
    "    quadrant_labels = ['Northwest','Northeast', 'Southwest', 'Southeast']\n",
    "\n",
    "    for i, ax in enumerate(axes.flat):\n",
    "        quad = quadrants[i]\n",
    "        for fail_satellite in values[f'f{quad}']:\n",
    "            g = sns.lineplot(x=values[f'f{quad}'][fail_satellite][0],\n",
    "                             y=values[f'f{quad}'][fail_satellite][1],\n",
    "                             ax=ax, color='lightgrey')\n",
    "        for satellite in values[quad]:\n",
    "            g = sns.lineplot(x=values[quad][satellite][0],\n",
    "                             y=values[quad][satellite][1],\n",
    "                             ax=ax)\n",
    "        g.set_title(quadrant_labels[i])\n",
    "        g.set_ylabel('volts/volts')\n",
    "        g.set_xlabel('reflector height (m)')\n",
    "\n",
    "    if metrics:\n",
    "        success, fail = gnssrefl_helpers.quicklook_metrics(metrics)\n",
    "        fig, axes = plt.subplots(ncols=1, nrows=3, figsize=(10,10), sharex=True)\n",
    "        fig.suptitle(f'QuickLook Retrieval Metrics: {station}, {frequency}', size=16)\n",
    "\n",
    "        for i, ax in enumerate(axes):\n",
    "            g = sns.scatterplot(x='Azimuth',y=success.columns[i+1], data=success, ax=ax, label='good')\n",
    "            g = sns.scatterplot(x='Azimuth',y=fail.columns[i+1], data=fail, ax=ax, color='lightgrey', label='bad')\n",
    "\n",
    "        axes[0].legend(loc='upper right')\n",
    "\n",
    "        avg_rh = np.mean(success['Reflector Height'])\n",
    "        print(f'Average reflector height value: {avg_rh:.1f}')\n",
    "\n",
    "    plt.tight_layout()\n",
    "    plt.show()"
   ]
  },
  {
   "cell_type": "markdown",
   "metadata": {},
   "source": [
    "## Data Summary\n",
    "\n",
    "The p041 antenna is ~2 meters above the soil surface. It is located at Marshall Mesa, Colorado.\n",
    "The site is relatively planar and free of obstructions. Since October 2018 the site has \n",
    "recorded multi-GNSS signals. Marshall Mesa has been featured in multiple publications on GNSS-IR:\n",
    "\n",
    "* [Use of GPS Receivers as a Soil Moisture Network for Water Cycle Studies (2008)](https://www.kristinelarson.net/wp-content/uploads/2015/10/larson_soil_grl2008.pdf)\n",
    "\n",
    "* [Can We Measure Snow Depth with GPS Receivers (2009)](https://www.kristinelarson.net/wp-content/uploads/2015/10/larsonetal_snow_2009.pdf) \n",
    "\n",
    "* [Sensing Vegetation Growth with Reflected GPS Signals (2010)](https://www.kristinelarson.net/wp-content/uploads/2015/10/small_etal_2010.pdf) "
   ]
  },
  {
   "cell_type": "markdown",
   "metadata": {},
   "source": [
    "### Web App\n",
    "\n",
    "More information on the station can be obtained from the GNSS-IR Web App, where p041 is one of the example cases for soil moisture and snow depth. [Please note that the app will be analyzing data in real-time, so please wait for the periodogram to appear on the left side of the page. It takes about 5 seconds](https://gnss-reflections.org/fancy6?example=p041). The web app will return a photograph, station coordinates, a Google Earth Map, and a sample periodogram. The periodogram plots the reflector height (RH) in four quadrants (NW, NE, SW, SE), allowing the reflection characteristics and quality of the site to be inferred. For example, variations in topography or buildings blocking the reflections could all affect the periodograms."
   ]
  },
  {
   "cell_type": "code",
   "execution_count": null,
   "metadata": {},
   "outputs": [],
   "source": [
    "%%html\n",
    "<iframe src=\"https://gnss-reflections.org/api?example=p041\" width=\"1000\" height=\"900\"></iframe>"
   ]
  },
  {
   "cell_type": "markdown",
   "metadata": {},
   "source": [
    "### Setting Azimuth and Elevation Mask\n",
    "\n",
    "To get a sense of whether an azimuth or elevation mask is appropriate, check the [Reflection Zone Mapping in the web app](https://gnss-reflections.org/rzones?station=p041&lat=39.9495&lon=-105.1943&height=1728.842&msl=on&RH=2&eang=2&azim1=0&azim2=360).  \n",
    "In the linked page, the reflection zones at 5, 10, and 15-degree elevation angles are plotted as colored ellipses surrounding the station, all overlaid on a Google Earth map.  Higher elevation angles are closer to the station.\n",
    "As can be seen from the Google Earth map, this site is relatively flat with no major obstacles to interfere with reflected signals.  Therefore the elevation angles can be left at default settings and no azimuth masks are required."
   ]
  },
  {
   "cell_type": "code",
   "execution_count": null,
   "metadata": {},
   "outputs": [],
   "source": [
    "%%html\n",
    "<iframe src=\"https://gnss-reflections.org/rzones?station=p041&lat=39.9495&lon=-105.1943&height=1728.842&msl=on&RH=2&eang=2&azim1=0&azim2=360\" width=\"950\" height=\"500\"></iframe>"
   ]
  },
  {
   "cell_type": "markdown",
   "metadata": {},
   "source": [
    "### Make SNR File\n",
    "\n",
    "Begin by making an SNR file. We'll look at the year 2020 and day of year 132"
   ]
  },
  {
   "cell_type": "code",
   "execution_count": null,
   "metadata": {
    "ExecuteTime": {
     "end_time": "2022-05-19T15:28:58.988109Z",
     "start_time": "2022-05-19T15:28:58.982722Z"
    }
   },
   "outputs": [],
   "source": [
    "station = 'p041'\n",
    "year = 2021 \n",
    "doy = 5\n",
    "\n",
    "lat = 39.9495\n",
    "long = -105.1943\n",
    "height = 1728.856"
   ]
  },
  {
   "cell_type": "code",
   "execution_count": null,
   "metadata": {},
   "outputs": [],
   "source": [
    "# Can view the parameters for the rinex2snr function here\n",
    "rinex2snr?"
   ]
  },
  {
   "cell_type": "code",
   "execution_count": null,
   "metadata": {
    "ExecuteTime": {
     "end_time": "2022-05-19T15:31:30.186236Z",
     "start_time": "2022-05-19T15:31:27.916681Z"
    }
   },
   "outputs": [],
   "source": [
    "rinex2snr(station, year, doy)"
   ]
  },
  {
   "cell_type": "markdown",
   "metadata": {},
   "source": [
    "### Take a Quick Look at the Data\n",
    "\n",
    "Then use **quickLook** to analyze the reflection characteristics of the site [(For details on quickLook output)](../../docs/quickLook_desc.md).\n",
    "\n",
    "The default return is for the L1 frequency:"
   ]
  },
  {
   "cell_type": "code",
   "execution_count": null,
   "metadata": {
    "ExecuteTime": {
     "end_time": "2022-05-19T15:33:22.322689Z",
     "start_time": "2022-05-19T15:33:16.291332Z"
    }
   },
   "outputs": [],
   "source": [
    "values, metrics = quicklook(station, year, doy=doy, pltscreen=False)\n",
    "pretty_plots(station, values, 'GPS L1', metrics)"
   ]
  },
  {
   "cell_type": "markdown",
   "metadata": {},
   "source": [
    "Now try looking at the periodogram for L2C:"
   ]
  },
  {
   "cell_type": "code",
   "execution_count": null,
   "metadata": {
    "ExecuteTime": {
     "end_time": "2022-05-19T15:33:38.045657Z",
     "start_time": "2022-05-19T15:33:34.498573Z"
    }
   },
   "outputs": [],
   "source": [
    "values, metrics = quicklook(station, year, doy=doy, pltscreen=False, fr=20)\n",
    "pretty_plots(station, values, 'GPS L1', metrics)\n"
   ]
  },
  {
   "cell_type": "markdown",
   "metadata": {},
   "source": [
    "Note that there are more colors in the L1 plots than in the L2C plots. That is the result of the fact that there are more L1 satellites than L2C satellites.\n",
    "\n",
    "Now try L5:"
   ]
  },
  {
   "cell_type": "code",
   "execution_count": null,
   "metadata": {},
   "outputs": [],
   "source": [
    "values, metrics = quicklook(station, year, doy=doy, pltscreen=False, fr=5)\n",
    "pretty_plots(station, values, 'GPS L1', metrics)"
   ]
  },
  {
   "cell_type": "markdown",
   "metadata": {},
   "source": [
    "The L5 signal has only been available on satellites launched after 2010, so there are\n",
    "fewer satellite tracks than either L1 or L2C.\n",
    "\n",
    "The *quickLook* code has multiple options. For example, it is possible change the reflector height range:"
   ]
  },
  {
   "cell_type": "code",
   "execution_count": null,
   "metadata": {},
   "outputs": [],
   "source": [
    "values, metrics = quicklook(station, year, doy=doy, pltscreen=False, h1=0.5, h2=10)\n",
    "pretty_plots(station, values, 'GPS L1')"
   ]
  },
  {
   "cell_type": "markdown",
   "metadata": {},
   "source": [
    "To look at Glonass and Galileo signals, the SNR files must be created using the -orb gnss flag.\n",
    "If you have already made a file using only the GPS data, you will need the overwrite flag."
   ]
  },
  {
   "cell_type": "code",
   "execution_count": null,
   "metadata": {},
   "outputs": [],
   "source": [
    "rinex2snr(station, year, doy, orb='gnss', overwrite=True)"
   ]
  },
  {
   "cell_type": "code",
   "execution_count": null,
   "metadata": {},
   "outputs": [],
   "source": [
    "values, metrics = quicklook(station, year, doy=doy, pltscreen=False, h1=0.5, h2=10, fr=101)\n",
    "pretty_plots(station, values, 'Glonass L1')"
   ]
  },
  {
   "cell_type": "markdown",
   "metadata": {},
   "source": [
    "Beidou signals are tracked at this site, but unfortunately the data are not available in the RINEX 2.11 file.\n",
    "They are very likely available in the RINEX 3 file, so you are encouraged to look there.\n",
    "\n",
    "**quickLook** is meant to be a visual assessment of the spectral characteristics at a given site on a given day. For routine analysis, one must use  **gnssir**."
   ]
  },
  {
   "cell_type": "markdown",
   "metadata": {},
   "source": [
    "## Analyze the Data\n",
    "\n",
    "We will start by setting up the analysis parameters. These are stored\n",
    "in a json file. In this case, the p041 RINEX data are multi-gnss, so you could\n",
    "set the options to allow all frequencies from all constellations by setting the parameter allfreq=True.\n",
    "\n",
    "We are going to concentrate on GPS-only, which is the default. We have set stricter QC values by\n",
    "setting the amplitude minimum to 8 and the peak 2 noise ratio to 3.2:"
   ]
  },
  {
   "cell_type": "code",
   "execution_count": null,
   "metadata": {},
   "outputs": [],
   "source": [
    "# Here we can see what parameters are available and what the defaults are:\n",
    "make_json?"
   ]
  },
  {
   "cell_type": "code",
   "execution_count": null,
   "metadata": {},
   "outputs": [],
   "source": [
    "# we saved the lat, long, and height earlier\n",
    "make_json(station, lat, long, height, peak2noise=3.2, ampl=8)"
   ]
  },
  {
   "cell_type": "markdown",
   "metadata": {},
   "source": [
    "Because the site is uniformly flat, the parameters canbe left at default settings. The elevation angles for the SNR data are set to minimum and maximum values of 5 and 25 degrees, respectively.  The json output will be stored in $REFL_CODE/input/p041.json."
   ]
  },
  {
   "cell_type": "code",
   "execution_count": null,
   "metadata": {},
   "outputs": [],
   "source": [
    "# This is the json file that was created\n",
    "json_file = '../../input/p041.json'\n",
    "with open(json_file, \"r\") as myfile:\n",
    "    file = json.load(myfile)\n",
    "\n",
    "os.remove(json_file)\n",
    "with open(json_file, 'w') as f:\n",
    "    json.dump(file, f, indent=4)\n",
    "    \n",
    "with open(json_file, \"r\") as myfile:\n",
    "    file = json.load(myfile)\n",
    "\n",
    "file"
   ]
  },
  {
   "cell_type": "markdown",
   "metadata": {},
   "source": [
    "We are going to look at a subset of p041 data from 2019/2020 to look at changes due to\n",
    "snow accumulation. The series will begin doy 245 (2019) and end on doy 70 (2020)."
   ]
  },
  {
   "cell_type": "code",
   "execution_count": null,
   "metadata": {},
   "outputs": [],
   "source": [
    "args = rinex2snr(station, year=2019, doy=245, doy_end=365, archive='unavco')"
   ]
  },
  {
   "cell_type": "code",
   "execution_count": null,
   "metadata": {},
   "outputs": [],
   "source": [
    "args = rinex2snr(station, year=2020, doy=1, doy_end=70, archive='unavco')"
   ]
  },
  {
   "cell_type": "markdown",
   "metadata": {},
   "source": [
    "Now run gnssir for 2019/2020:"
   ]
  },
  {
   "cell_type": "code",
   "execution_count": null,
   "metadata": {},
   "outputs": [],
   "source": [
    "#gnssir?"
   ]
  },
  {
   "cell_type": "code",
   "execution_count": null,
   "metadata": {},
   "outputs": [],
   "source": [
    "year = 2019\n",
    "doy = 1\n",
    "doy_end = 366\n",
    "year_end = 2020\n",
    "pt=False\n",
    "args = gnssir(station, year, doy, doy_end=doy_end, year_end=year_end, plt=pt, screenstats=False)"
   ]
  },
  {
   "cell_type": "markdown",
   "metadata": {},
   "source": [
    "Typically a daily average is sufficient for climatology studies.\n",
    "To ensure the average is meaningful and not impacted by large outliers,\n",
    "a median filter (meters) is used and a minimum number of tracks is required. Here a median filter of 0.15 meter is used and 80 tracks are required. Either of these parameters can be changed depending on your site.\n",
    "In this particular example, I only used three GPS frequencies, L1, L2C, and L5."
   ]
  },
  {
   "cell_type": "code",
   "execution_count": null,
   "metadata": {},
   "outputs": [],
   "source": [
    "#daily_avg?"
   ]
  },
  {
   "cell_type": "code",
   "execution_count": null,
   "metadata": {},
   "outputs": [],
   "source": [
    "daily_avg(station, medfilter=.15, ReqTracks=80, plt2screen=False, txtfile='p041-dailyavg.txt')"
   ]
  },
  {
   "cell_type": "code",
   "execution_count": null,
   "metadata": {},
   "outputs": [],
   "source": [
    "filepath = f'{refl_code_loc}/Files/{station}_allRH.txt'\n",
    "data = gnssrefl_helpers.read_rh_files(filepath)\n",
    "\n",
    "df = pd.DataFrame(data, index=None, columns=['dates', 'rh'])\n",
    "plt.figure(figsize=(8,8))\n",
    "g = sns.scatterplot(x='dates', y='rh', data=df, hue='dates', palette='colorblind', legend=False)\n",
    "g.set_ylim(2.05, 1.5)\n",
    "g.set_ylabel('Reflector Height (m)');"
   ]
  },
  {
   "cell_type": "markdown",
   "metadata": {},
   "source": [
    "A summary of how many values are being used in the daily average:"
   ]
  },
  {
   "cell_type": "code",
   "execution_count": null,
   "metadata": {},
   "outputs": [],
   "source": [
    "plt.figure(figsize=(8,8))\n",
    "df_group = df.groupby(['dates']).agg(['count'])\n",
    "g = sns.scatterplot(data=df_group)\n",
    "g.set_title('Number of values used in the daily average', size=16);"
   ]
  },
  {
   "cell_type": "markdown",
   "metadata": {},
   "source": [
    "And the daily RH average:"
   ]
  },
  {
   "cell_type": "code",
   "execution_count": null,
   "metadata": {},
   "outputs": [],
   "source": [
    "filepath = f'{refl_code_loc}/Files/{station}-dailyavg.txt'\n",
    "data = gnssrefl_helpers.read_rh_files(filepath)\n",
    "df = pd.DataFrame(data, index=None, columns=['dates', 'rh'])\n",
    "plt.figure(figsize=(8,8))\n",
    "g = sns.scatterplot(x='dates', y='rh', data=df, legend=False)\n",
    "g.set_ylim(1.98,1.7)\n",
    "g.set_ylabel('Reflector Height (m)')\n",
    "g.set_title(f'{station.upper()}: Daily Mean Reflector Height', size=16);"
   ]
  },
  {
   "cell_type": "code",
   "execution_count": null,
   "metadata": {},
   "outputs": [],
   "source": []
  }
 ],
 "metadata": {
  "kernelspec": {
   "display_name": "gnssrefl_jupyter",
   "language": "python",
   "name": "gnssrefl_jupyter"
  },
  "language_info": {
   "codemirror_mode": {
    "name": "ipython",
    "version": 3
   },
   "file_extension": ".py",
   "mimetype": "text/x-python",
   "name": "python",
   "nbconvert_exporter": "python",
   "pygments_lexer": "ipython3",
   "version": "3.9.8"
  }
 },
 "nbformat": 4,
 "nbformat_minor": 4
}
