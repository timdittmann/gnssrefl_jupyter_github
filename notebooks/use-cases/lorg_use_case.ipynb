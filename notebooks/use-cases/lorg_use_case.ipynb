{
 "cells": [
  {
   "cell_type": "code",
   "execution_count": null,
   "metadata": {
    "scrolled": true
   },
   "outputs": [],
   "source": [
    "import os\n",
    "import sys\n",
    "import re\n",
    "import json\n",
    "import pandas as pd \n",
    "import numpy as np\n",
    "import seaborn as sns; sns.set_theme(style=\"whitegrid\");\n",
    "import matplotlib.pyplot as plt\n",
    "\n",
    "# We are including our repository bin to the system path so that we can import the following python modules\n",
    "bin_path = os.path.abspath(os.path.join('../../bin'))\n",
    "if bin_path not in sys.path:\n",
    "    sys.path.append(bin_path)\n",
    "    \n",
    "import run_gnssrefl \n",
    "import gnssrefl_helpers\n",
    "\n",
    "%matplotlib inline"
   ]
  },
  {
   "cell_type": "code",
   "execution_count": null,
   "metadata": {
    "pycharm": {
     "name": "#%%\n"
    }
   },
   "outputs": [],
   "source": [
    "#Making sure environment variables are set\n",
    "exists = gnssrefl_helpers.check_environment()\n",
    "if exists == False:\n",
    "    gnssrefl_helpers.set_environment()\n",
    "else:\n",
    "     print('environment variable ORBITS path is:\\n', os.environ['ORBITS'],\n",
    "          '\\nenvironment variable REFL_CODE path is:\\n', os.environ['REFL_CODE'],\n",
    "          '\\nenvironment variable EXE path is:\\n', os.environ['EXE'])\n",
    "        \n",
    "refl_code_loc = os.environ['REFL_CODE']\n",
    "# import the crx2rnx file which is dependant on your working OS - this is required to run the gnssrefl code\n",
    "gnssrefl_helpers.download_crx2rnx()"
   ]
  },
  {
   "cell_type": "markdown",
   "metadata": {
    "pycharm": {
     "name": "#%%\n"
    }
   },
   "source": [
    "# Ross Ice Shelf, Antarctica\n",
    "\n",
    "**Station Name:**  lorg\n",
    "\n",
    "**Location:**  Lorne, Antarctica\n",
    "\n",
    "**Archive:**  [UNAVCO](http://www.unavco.org)\n",
    "\n",
    "**DOI:**  [https://doi.org/10.7283/ACF6-YT23](https://doi.org/10.7283/ACF6-YT23)\n",
    "\n",
    "**Ellipsoidal Coordinates:**\n",
    "\n",
    "- Latitude:  -78.18365\n",
    "- Longitude: 170.03361\n",
    "- Height:  \t-7.778 m\n",
    "\n",
    "[Station Page at UNAVCO](https://www.unavco.org/instrumentation/networks/status/nota/overview/lorg)\n",
    "\n",
    "[Station Page at Nevada Geodetic Laboratory](http://geodesy.unr.edu/NGLStationPages/stations/LORG.sta)\n",
    "\n",
    "[Google Maps Link](https://goo.gl/maps/bSAuLXLLMmzWqPdW9) \n",
    "\n",
    "<img src=\"https://gnss-reflections.org/static/images/LORG.jpg\" width=\"500\">\n",
    "\n"
   ]
  },
  {
   "cell_type": "markdown",
   "metadata": {},
   "source": [
    "### Data Summary\n",
    "\n",
    "Station lorg is on the Ross Ice Shelf, Antarctica.\n",
    "The site is a largely featureless ice plain with no obstructions (see photo above). \n",
    "The site was installed on November 27, 2018 and decommissioned and removed on November 15, 2019. \n",
    "It recorded only GPS frequencies during its operation. \n",
    "\n",
    "LORG is an example station on the [GNSS-IR web app.](https://gnss-reflections.org/api?example=lorg) \n",
    "\n",
    "There are no significant topographic features near the station, so it is recommended to use default values \n",
    "for the elevation mask. An azimuth mask is not required."
   ]
  },
  {
   "cell_type": "code",
   "execution_count": null,
   "metadata": {},
   "outputs": [],
   "source": [
    "%%html\n",
    "<iframe src=\"https://gnss-reflections.org/api?example=lorg\" width=\"1000\" height=\"900\"></iframe>"
   ]
  },
  {
   "cell_type": "markdown",
   "metadata": {},
   "source": [
    "## Take a look at the Data\n",
    "\n",
    "First make a SNR file."
   ]
  },
  {
   "cell_type": "code",
   "execution_count": null,
   "metadata": {},
   "outputs": [],
   "source": [
    "station = 'lorg'\n",
    "year = 2019 \n",
    "doy = 205\n",
    "\n",
    "lat = -78.1836\n",
    "long = 170.0336\n",
    "height = -7.722"
   ]
  },
  {
   "cell_type": "code",
   "execution_count": null,
   "metadata": {},
   "outputs": [],
   "source": [
    "# Can view the parameters here\n",
    "#run_gnssrefl.rinex2snr?"
   ]
  },
  {
   "cell_type": "code",
   "execution_count": null,
   "metadata": {},
   "outputs": [],
   "source": [
    "run_gnssrefl.rinex2snr(station,year,doy, translator='hybrid')"
   ]
  },
  {
   "cell_type": "markdown",
   "metadata": {},
   "source": [
    "\n",
    "\n",
    "Use **quickLook** to produce a periodogram similar to the one in the web app [(For details on quickLook output)](../../docs/quickLook_desc.md). quickLook is set to use the L1 frequency by default:"
   ]
  },
  {
   "cell_type": "code",
   "execution_count": null,
   "metadata": {},
   "outputs": [],
   "source": [
    "values, metrics = run_gnssrefl.quicklook(station, year, doy=doy)\n",
    "fig, axes = plt.subplots(ncols=2, nrows=2, figsize=(10,10), sharex=True)\n",
    "fig.suptitle(f'QuickLook: {station}', size=16)\n",
    "\n",
    "quadrants = ['NW', 'NE', 'SW', 'SE']\n",
    "\n",
    "for i, ax in enumerate(axes.flat):\n",
    "    for fail_satellite in values[f'f{quadrants[i]}']:\n",
    "        g = sns.lineplot(x=values[f'f{quadrants[i]}'][fail_satellite][0], y=values[f'f{quadrants[i]}'][fail_satellite][1], ax=ax, color='lightgrey')\n",
    "    for satellite in values[quadrants[i]]:\n",
    "        g = sns.lineplot(x=values[quadrants[i]][satellite][0], y=values[quadrants[i]][satellite][1], ax=ax)\n",
    "    g.set_ylabel('volts/volts')\n",
    "    g.set_xlabel('reflector height (m)')\n",
    "\n",
    "plt.tight_layout()\n",
    "plt.show()"
   ]
  },
  {
   "cell_type": "markdown",
   "metadata": {},
   "source": [
    "Compare the periodograms for other frequencies: L2C and L5. They should be similar to the L1 periodogram, except that there\n",
    "will be fewer satellite traces because only GPS satellites launched after 2005\n",
    "broadcast L2C and only satellites after 2010 broadcast L5.\n",
    "The northwest qudarant is the noisiest and one could certainly try to improve the results by restricting some azimuths there.\n",
    "This is for L2C:"
   ]
  },
  {
   "cell_type": "code",
   "execution_count": null,
   "metadata": {},
   "outputs": [],
   "source": [
    "values, metrics = run_gnssrefl.quicklook(station, year, doy=doy, f=20)\n",
    "fig, axes = plt.subplots(ncols=2, nrows=2, figsize=(10,10), sharex=True)\n",
    "fig.suptitle(f'QuickLook: {station}', size=16)\n",
    "\n",
    "quadrants = ['NW', 'NE', 'SW', 'SE']\n",
    "\n",
    "for i, ax in enumerate(axes.flat):\n",
    "    for fail_satellite in values[f'f{quadrants[i]}']:\n",
    "        g = sns.lineplot(x=values[f'f{quadrants[i]}'][fail_satellite][0], y=values[f'f{quadrants[i]}'][fail_satellite][1], ax=ax, color='lightgrey')\n",
    "    for satellite in values[quadrants[i]]:\n",
    "        g = sns.lineplot(x=values[quadrants[i]][satellite][0], y=values[quadrants[i]][satellite][1], ax=ax)\n",
    "    g.set_ylabel('volts/volts')\n",
    "    g.set_xlabel('reflector height (m)')\n",
    "\n",
    "plt.tight_layout()\n",
    "plt.show()"
   ]
  },
  {
   "cell_type": "markdown",
   "metadata": {},
   "source": [
    "This is for L5:"
   ]
  },
  {
   "cell_type": "code",
   "execution_count": null,
   "metadata": {},
   "outputs": [],
   "source": [
    "values, metrics = run_gnssrefl.quicklook(station, year, doy=doy, f=5)\n",
    "fig, axes = plt.subplots(ncols=2, nrows=2, figsize=(10,10), sharex=True)\n",
    "fig.suptitle(f'QuickLook: {station}', size=16)\n",
    "\n",
    "quadrants = ['NW', 'NE', 'SW', 'SE']\n",
    "\n",
    "for i, ax in enumerate(axes.flat):\n",
    "    for fail_satellite in values[f'f{quadrants[i]}']:\n",
    "        g = sns.lineplot(x=values[f'f{quadrants[i]}'][fail_satellite][0], y=values[f'f{quadrants[i]}'][fail_satellite][1], ax=ax, color='lightgrey')\n",
    "    for satellite in values[quadrants[i]]:\n",
    "        g = sns.lineplot(x=values[quadrants[i]][satellite][0], y=values[quadrants[i]][satellite][1], ax=ax)\n",
    "    g.set_ylabel('volts/volts')\n",
    "    g.set_xlabel('reflector height (m)')\n",
    "\n",
    "plt.tight_layout()\n",
    "plt.show()"
   ]
  },
  {
   "cell_type": "markdown",
   "metadata": {},
   "source": [
    "### Analyze the Data\n",
    "Now prepare to analyze the data using **gnssir**.  First you need to create a set of analysis instructions.\n",
    "The default settings only need the station name, latitude, longitude, and ellipsoidal height."
   ]
  },
  {
   "cell_type": "code",
   "execution_count": null,
   "metadata": {},
   "outputs": [],
   "source": [
    "# Here we can see what parameters are available and what the defaults are:\n",
    "#check_parameters.make_json?"
   ]
  },
  {
   "cell_type": "code",
   "execution_count": null,
   "metadata": {},
   "outputs": [],
   "source": [
    "# we saved the lat, long, and height earlier in the notebook\n",
    "run_gnssrefl.make_json(station, lat, long, height)"
   ]
  },
  {
   "cell_type": "code",
   "execution_count": null,
   "metadata": {},
   "outputs": [],
   "source": [
    "# This is the json file that was created\n",
    "json_file = f'{refl_code_loc}/input/lorg.json'\n",
    "with open(json_file, \"r\") as myfile:\n",
    "    file = json.load(myfile)\n",
    "\n",
    "os.remove(json_file)\n",
    "with open(json_file, 'w') as f:\n",
    "    json.dump(file, f, indent=4)\n",
    "    \n",
    "with open(json_file, \"r\") as myfile:\n",
    "    file = json.load(myfile)\n",
    "\n",
    "file"
   ]
  },
  {
   "cell_type": "markdown",
   "metadata": {},
   "source": [
    "Next make some snr files for a time span of about eight months. Restrict the search to the UNAVCO archive to make the\n",
    "code run faster (otherwise it will check three other archives as well).\n",
    "\n",
    "Setting the parameter weekly=True will sample one rinex file per week over the time period requested - this is in the interest of saving time. It should only take a couple of minutes to load."
   ]
  },
  {
   "cell_type": "code",
   "execution_count": null,
   "metadata": {},
   "outputs": [],
   "source": [
    "#run_gnssrefl.rinex2snr?"
   ]
  },
  {
   "cell_type": "code",
   "execution_count": null,
   "metadata": {},
   "outputs": [],
   "source": [
    "run_gnssrefl.rinex2snr(station, year=2019, doy=1, doy_end=233, archive='unavco')"
   ]
  },
  {
   "cell_type": "markdown",
   "metadata": {},
   "source": [
    "Run **gnssir** for all the SNR files from **rinex2snr**."
   ]
  },
  {
   "cell_type": "code",
   "execution_count": null,
   "metadata": {},
   "outputs": [],
   "source": [
    "#run_gnssrefl.gnssir?"
   ]
  },
  {
   "cell_type": "markdown",
   "metadata": {},
   "source": [
    "Unlike **quickLook**, **gnssir** plots the periodograms for each frequency with no quadrants.\n",
    "The default does not send any plots to the screen. If you do want to see them, set -plt True. This is an example of running doy 1:"
   ]
  },
  {
   "cell_type": "code",
   "execution_count": null,
   "metadata": {},
   "outputs": [],
   "source": [
    "doy = 1\n",
    "run_gnssrefl.gnssir(station, year, doy=1, plt=True, screenstats=False)"
   ]
  },
  {
   "cell_type": "markdown",
   "metadata": {},
   "source": [
    "Now we run this for all of the days we downloaded. Note* There will be a lot of 'Could not read the first SNR file'. This is due to the fact that we used the 'weekly' parameter to speed up notebook for this purpose - and it cannot find all of the days we are requesting. "
   ]
  },
  {
   "cell_type": "code",
   "execution_count": null,
   "metadata": {},
   "outputs": [],
   "source": [
    "doy = 1\n",
    "doy_end=233\n",
    "run_gnssrefl.gnssir(station, year, doy=doy, doy_end=doy_end, screenstats=False)"
   ]
  },
  {
   "cell_type": "markdown",
   "metadata": {},
   "source": [
    "The **daily_avg** command will calculate the daily average reflector height from the daily output files. To minimize outliers in these daily averages, a median filter is set to 0.25 meters and the required minimum number of daily satellite tracks we will set to 50."
   ]
  },
  {
   "cell_type": "code",
   "execution_count": null,
   "metadata": {},
   "outputs": [],
   "source": [
    "#run_gnssrefl.daily_avg?"
   ]
  },
  {
   "cell_type": "code",
   "execution_count": null,
   "metadata": {},
   "outputs": [],
   "source": [
    "run_gnssrefl.daily_avg(station, medfilter=.25, ReqTracks=50, plt2screen=False, txtfile='lorg-dailyavg.txt')"
   ]
  },
  {
   "cell_type": "markdown",
   "metadata": {},
   "source": [
    "This shows the range of reflector heights each day, with each day represented by a different color.\n",
    "\n",
    "There are also optional inputs for saving a text file of the daily averages. \n",
    "The plot is stored at $REFL_CODE/Files/lorg_RH.png \n",
    "This is not yet perfect - there are some outliers. \n",
    "But it is an excellent example of how easy it is to use the default gnssrefl code to estimate snow accumulation in Antarctica.\n",
    "\n",
    "In this exercise L1, L2C, and L5 signals were used (i.e. only GPS data). The reflector heights give information \n",
    "about snow accumulation at lorg. Notice that when reflector heights are plotted, the y-axis is reversed so that the reflector height gets smaller as the snow layer increases and the distance between the antenna and snow surface decreases.  "
   ]
  },
  {
   "cell_type": "code",
   "execution_count": null,
   "metadata": {},
   "outputs": [],
   "source": [
    "filepath = f'{refl_code_loc}/Files/{station}_allRH.txt'\n",
    "data = gnssrefl_helpers.read_allrh_file(filepath)\n",
    "\n",
    "df = pd.DataFrame(data, index=None, columns=['dates', 'rh'])\n",
    "plt.figure(figsize=(8,8))\n",
    "g = sns.scatterplot(x='dates', y='rh', data=df, hue='dates', palette='colorblind', legend=False)\n",
    "g.set_ylim(3.0, 1.8)\n",
    "g.set_ylabel('Reflector Height (m)');"
   ]
  },
  {
   "cell_type": "code",
   "execution_count": null,
   "metadata": {},
   "outputs": [],
   "source": [
    "plt.figure(figsize=(8,8))\n",
    "df_group = df.groupby(['dates']).agg(['count'])\n",
    "g = sns.scatterplot(data=df_group)\n",
    "g.set_title('Number of values used in the daily average', size=16);"
   ]
  },
  {
   "cell_type": "code",
   "execution_count": null,
   "metadata": {},
   "outputs": [],
   "source": [
    "filepath = f'{refl_code_loc}/Files/{station}-dailyavg.txt'\n",
    "data = gnssrefl_helpers.read_allrh_file(filepath)\n",
    "df = pd.DataFrame(data, index=None, columns=['dates', 'rh'])"
   ]
  },
  {
   "cell_type": "code",
   "execution_count": null,
   "metadata": {},
   "outputs": [],
   "source": [
    "plt.figure(figsize=(8,8))\n",
    "g = sns.scatterplot(x='dates', y='rh', data=df, legend=False)\n",
    "g.set_ylim(2.7,2.1)\n",
    "g.set_ylabel('Reflector Height (m)');"
   ]
  },
  {
   "cell_type": "code",
   "execution_count": null,
   "metadata": {},
   "outputs": [],
   "source": []
  }
 ],
 "metadata": {
  "kernelspec": {
   "display_name": "gnssrefl_jupyter",
   "language": "python",
   "name": "gnssrefl_jupyter"
  },
  "language_info": {
   "codemirror_mode": {
    "name": "ipython",
    "version": 3
   },
   "file_extension": ".py",
   "mimetype": "text/x-python",
   "name": "python",
   "nbconvert_exporter": "python",
   "pygments_lexer": "ipython3",
   "version": "3.9.0"
  }
 },
 "nbformat": 4,
 "nbformat_minor": 4
}
