{
 "cells": [
  {
   "cell_type": "markdown",
   "metadata": {},
   "source": [
    "# Ross Ice Shelf, Antarctica\n",
    "\n",
    "**Station Name:**  lorg\n",
    "\n",
    "**Location:**  Lorne, Antarctica\n",
    "\n",
    "**Archive:**  [UNAVCO](http://www.unavco.org)\n",
    "\n",
    "**DOI:**  [https://doi.org/10.7283/ACF6-YT23](https://doi.org/10.7283/ACF6-YT23)\n",
    "\n",
    "**Ellipsoidal Coordinates:**\n",
    "\n",
    "- Latitude:  -78.18365\n",
    "- Longitude: 170.03361\n",
    "- Height:  \t-7.778 m\n",
    "\n",
    "[Station Page at UNAVCO](https://www.unavco.org/instrumentation/networks/status/nota/overview/lorg)\n",
    "\n",
    "[Station Page at Nevada Geodetic Laboratory](http://geodesy.unr.edu/NGLStationPages/stations/LORG.sta)\n",
    "\n",
    "[Google Maps Link](https://goo.gl/maps/bSAuLXLLMmzWqPdW9) \n",
    "\n",
    "<img src=\"https://gnss-reflections.org/static/images/LORG.jpg\" width=\"500\">\n",
    "\n"
   ]
  },
  {
   "cell_type": "markdown",
   "metadata": {},
   "source": [
    "### Data Summary\n",
    "\n",
    "Station lorg is on the Ross Ice Shelf in Antarctica.\n",
    "The site is a largely featureless ice plain with little to no obstructions. \n",
    "It was installed November 2018 and decommissioned and removed in 2019 and it recorded only GPS frequencies during its operation. \n",
    "\n",
    "LORG is an example station on the GNSSIR webapp.\n",
    "\n",
    "### Imports"
   ]
  },
  {
   "cell_type": "code",
   "execution_count": null,
   "metadata": {
    "scrolled": true
   },
   "outputs": [],
   "source": [
    "import os\n",
    "import sys\n",
    "import re\n",
    "import json\n",
    "import pandas as pd \n",
    "import numpy as np\n",
    "import seaborn as sns; sns.set_theme(style=\"whitegrid\");\n",
    "import matplotlib.pyplot as plt\n",
    "\n",
    "# import gnssrefl functions\n",
    "from gnssrefl.rinex2snr_cl import rinex2snr \n",
    "from gnssrefl.quickLook_cl import quicklook\n",
    "from gnssrefl.make_json_input import make_json\n",
    "from gnssrefl.gnssir_cl import gnssir\n",
    "from gnssrefl.daily_avg_cl import daily_avg\n",
    "\n",
    "# We are including our repository bin to the system path so that we can import the following python modules\n",
    "bin_path = os.path.abspath(os.path.join('../../bin'))\n",
    "if bin_path not in sys.path:\n",
    "    sys.path.append(bin_path)\n",
    "    \n",
    "import gnssrefl_helpers\n",
    "\n",
    "%matplotlib inline"
   ]
  },
  {
   "cell_type": "code",
   "execution_count": null,
   "metadata": {
    "pycharm": {
     "name": "#%%\n"
    }
   },
   "outputs": [],
   "source": [
    "#Making sure environment variables are set\n",
    "exists = gnssrefl_helpers.check_environment()\n",
    "if exists == False:\n",
    "    gnssrefl_helpers.set_environment()\n",
    "else:\n",
    "     print('environment variable ORBITS path is:\\n', os.environ['ORBITS'],\n",
    "          '\\nenvironment variable REFL_CODE path is:\\n', os.environ['REFL_CODE'],\n",
    "          '\\nenvironment variable EXE path is:\\n', os.environ['EXE'])\n",
    "        \n",
    "refl_code_loc = os.environ['REFL_CODE']\n",
    "# import the crx2rnx file which is dependant on your working OS - this is required to run the gnssrefl code\n",
    "try:\n",
    "    os.environ['DOCKER']\n",
    "except KeyError:\n",
    "    gnssrefl_helpers.download_crx2rnx()"
   ]
  },
  {
   "cell_type": "code",
   "execution_count": null,
   "metadata": {},
   "outputs": [],
   "source": [
    "# This is only for these use cases \n",
    "# you can set pltscreen=True in quicklook to print these plots as well\n",
    "\n",
    "def pretty_plots(station, values, frequency,metrics=None):\n",
    "    # plotting the quicklook graph periodograms\n",
    "    fig, axes = plt.subplots(ncols=2, nrows=2, figsize=(12,10), sharex=True)\n",
    "    fig.suptitle(f'QuickLook: {station},{frequency}', size=16)\n",
    "\n",
    "    quadrants = ['NW', 'NE', 'SW', 'SE']\n",
    "    quadrant_labels = ['Northwest','Northeast', 'Southwest', 'Southeast']\n",
    "\n",
    "    for i, ax in enumerate(axes.flat):\n",
    "        quad = quadrants[i]\n",
    "        for fail_satellite in values[f'f{quad}']:\n",
    "            g = sns.lineplot(x=values[f'f{quad}'][fail_satellite][0],\n",
    "                             y=values[f'f{quad}'][fail_satellite][1],\n",
    "                             ax=ax, color='lightgrey')\n",
    "        for satellite in values[quad]:\n",
    "            g = sns.lineplot(x=values[quad][satellite][0],\n",
    "                             y=values[quad][satellite][1],\n",
    "                             ax=ax)\n",
    "        g.set_title(quadrant_labels[i])\n",
    "        g.set_ylabel('volts/volts')\n",
    "        g.set_xlabel('reflector height (m)')\n",
    "\n",
    "    if metrics:\n",
    "        success, fail = gnssrefl_helpers.quicklook_metrics(metrics)\n",
    "        fig, axes = plt.subplots(ncols=1, nrows=3, figsize=(10,10), sharex=True)\n",
    "        fig.suptitle(f'QuickLook Retrieval Metrics: {station}, {frequency}', size=16)\n",
    "\n",
    "        for i, ax in enumerate(axes):\n",
    "            g = sns.scatterplot(x='Azimuth',y=success.columns[i+1], data=success, ax=ax, label='good')\n",
    "            g = sns.scatterplot(x='Azimuth',y=fail.columns[i+1], data=fail, ax=ax, color='lightgrey', label='bad')\n",
    "\n",
    "        axes[0].legend(loc='upper right')\n",
    "\n",
    "        avg_rh = np.mean(success['Reflector Height'])\n",
    "        print(f'Average reflector height value: {avg_rh:.1f}')\n",
    "\n",
    "    plt.tight_layout()\n",
    "    plt.show()"
   ]
  },
  {
   "cell_type": "markdown",
   "metadata": {},
   "source": [
    "## Take a look at the Data\n",
    "\n",
    "\n",
    "First, we'll make a SNR file. Let's choose day of year 205 in the year 2019 to look at. We'll also save the lat and long information as variables to be used later during analysis."
   ]
  },
  {
   "cell_type": "code",
   "execution_count": null,
   "metadata": {},
   "outputs": [],
   "source": [
    "station = 'lorg'\n",
    "year = 2019 \n",
    "doy = 205\n",
    "\n",
    "lat = -78.1836\n",
    "long = 170.0336\n",
    "height = -7.722"
   ]
  },
  {
   "cell_type": "code",
   "execution_count": null,
   "metadata": {},
   "outputs": [],
   "source": [
    "rinex2snr(station,year,doy)"
   ]
  },
  {
   "cell_type": "markdown",
   "metadata": {},
   "source": [
    "Use **quickLook** to produce a periodogram - quickLook is set to use the L1 frequency by default:"
   ]
  },
  {
   "cell_type": "code",
   "execution_count": null,
   "metadata": {},
   "outputs": [],
   "source": [
    "values, metrics = quicklook(station, year, doy=doy, pltscreen=False)\n",
    "pretty_plots(station, values, 'GPS L1', metrics)"
   ]
  },
  {
   "cell_type": "markdown",
   "metadata": {},
   "source": [
    "This looks pretty good. It looks like we will not need an azimuth mask - which makes sense as there are no significant topographic features near the station and so we will use default values for the elevation mask and an azimuth mask is not required.\n",
    "\n",
    "We will now compare the periodograms for other frequencies: L2C and L5.\n",
    "\n",
    "This is for L2C:"
   ]
  },
  {
   "cell_type": "code",
   "execution_count": null,
   "metadata": {},
   "outputs": [],
   "source": [
    "values, metrics = quicklook(station, year, doy=doy, fr=20, pltscreen=False)\n",
    "pretty_plots(station, values, 'GPS L2C',)"
   ]
  },
  {
   "cell_type": "markdown",
   "metadata": {},
   "source": [
    "This is for L5:"
   ]
  },
  {
   "cell_type": "code",
   "execution_count": null,
   "metadata": {},
   "outputs": [],
   "source": [
    "values, metrics = quicklook(station, year, doy=doy, fr=5, pltscreen=False)\n",
    "pretty_plots(station, values, 'GPS L5', metrics)"
   ]
  },
  {
   "cell_type": "markdown",
   "metadata": {},
   "source": [
    "They do look pretty similar to the L1 periodogram, except that there\n",
    "are fewer satellite traces because only GPS satellites launched after 2005\n",
    "broadcast L2C and only satellites after 2010 broadcast L5."
   ]
  },
  {
   "cell_type": "markdown",
   "metadata": {},
   "source": [
    "### Analyze the Data\n",
    "\n",
    "So now we prepare to analyze the data using **gnssir**.\n",
    "First ,we create our set of analysis instructions with make json.\n",
    "The default settings only need the station name, latitude, longitude, and ellipsoidal height."
   ]
  },
  {
   "cell_type": "code",
   "execution_count": null,
   "metadata": {},
   "outputs": [],
   "source": [
    "# we saved the lat, long, and height earlier in the notebook\n",
    "make_json(station, lat, long, height)"
   ]
  },
  {
   "cell_type": "code",
   "execution_count": null,
   "metadata": {},
   "outputs": [],
   "source": [
    "# This is the json file that was created\n",
    "json_file = f'{refl_code_loc}/input/lorg.json'\n",
    "with open(json_file, \"r\") as myfile:\n",
    "    file = json.load(myfile)\n",
    "\n",
    "os.remove(json_file)\n",
    "with open(json_file, 'w') as f:\n",
    "    json.dump(file, f, indent=4)\n",
    "    \n",
    "with open(json_file, \"r\") as myfile:\n",
    "    file = json.load(myfile)\n",
    "\n",
    "file"
   ]
  },
  {
   "cell_type": "markdown",
   "metadata": {},
   "source": [
    "Next make some snr files for a time span of about eight months. We will do day of year 1 through day of year 233 for the year 2019. We can also restrict the search to the UNAVCO archive to make the\n",
    "code run faster (otherwise it will check other archives as well)."
   ]
  },
  {
   "cell_type": "code",
   "execution_count": null,
   "metadata": {},
   "outputs": [],
   "source": [
    "rinex2snr(station, year=2019, doy=1, doy_end=233, archive='unavco')"
   ]
  },
  {
   "cell_type": "markdown",
   "metadata": {},
   "source": [
    "We would then run **gnssir** for the same time range. "
   ]
  },
  {
   "cell_type": "code",
   "execution_count": null,
   "metadata": {
    "scrolled": true
   },
   "outputs": [],
   "source": [
    "doy = 1\n",
    "doy_end=233\n",
    "gnssir(station, year, doy=doy, doy_end=doy_end, screenstats=False)"
   ]
  },
  {
   "cell_type": "markdown",
   "metadata": {},
   "source": [
    "Then the **daily_avg** command will calculate the daily average reflector height from the daily output files. To minimize outliers in these daily averages, we'll set a median filter to 0.25 meters and the required minimum number of daily satellite tracks we will set to 50."
   ]
  },
  {
   "cell_type": "code",
   "execution_count": null,
   "metadata": {},
   "outputs": [],
   "source": [
    "daily_avg(station, medfilter=.25, ReqTracks=50, plt2screen=False, txtfile='lorg-dailyavg.txt')"
   ]
  },
  {
   "cell_type": "markdown",
   "metadata": {},
   "source": [
    "This shows the range of reflector heights each day, with each day represented by a different color.\n",
    "\n",
    "This is not quite perfect - there are some outliers. But it is an great example of how easy it is to use the default code to estimate snow accumulation in Antarctica."
   ]
  },
  {
   "cell_type": "code",
   "execution_count": null,
   "metadata": {},
   "outputs": [],
   "source": [
    "filepath = f'{refl_code_loc}/Files/{station}_allRH.txt'\n",
    "data = gnssrefl_helpers.read_rh_files(filepath)\n",
    "\n",
    "df = pd.DataFrame(data, index=None, columns=['dates', 'rh'])\n",
    "plt.figure(figsize=(8,8))\n",
    "g = sns.scatterplot(x='dates', y='rh', data=df, hue='dates', palette='colorblind', legend=False)\n",
    "g.set_ylim(3.0, 1.8)\n",
    "g.set_ylabel('Reflector Height (m)');"
   ]
  },
  {
   "cell_type": "markdown",
   "metadata": {},
   "source": [
    "Then the number of values used for the daily average:"
   ]
  },
  {
   "cell_type": "code",
   "execution_count": null,
   "metadata": {},
   "outputs": [],
   "source": [
    "plt.figure(figsize=(8,8))\n",
    "df_group = df.groupby(['dates']).agg(['count'])\n",
    "g = sns.scatterplot(data=df_group)\n",
    "g.set_title('Number of values used in the daily average', size=16);"
   ]
  },
  {
   "cell_type": "markdown",
   "metadata": {},
   "source": [
    "And then the daily average."
   ]
  },
  {
   "cell_type": "code",
   "execution_count": null,
   "metadata": {},
   "outputs": [],
   "source": [
    "filepath = f'{refl_code_loc}/Files/{station}-dailyavg.txt'\n",
    "data = gnssrefl_helpers.read_rh_files(filepath)\n",
    "df = pd.DataFrame(data, index=None, columns=['dates', 'rh'])\n",
    "\n",
    "plt.figure(figsize=(8,8))\n",
    "g = sns.scatterplot(x='dates', y='rh', data=df, legend=False)\n",
    "g.set_ylim(2.7,2.1)\n",
    "g.set_ylabel('Reflector Height (m)');"
   ]
  },
  {
   "cell_type": "markdown",
   "metadata": {},
   "source": [
    "These reflector heights then give information about snow accumulation at lorg. \n",
    "\n",
    "We have reversed the y-axis so that the reflector height gets smaller as the snow layer increases and the distance between the antenna and snow surface decreases.  "
   ]
  },
  {
   "cell_type": "code",
   "execution_count": null,
   "metadata": {},
   "outputs": [],
   "source": []
  }
 ],
 "metadata": {
  "kernelspec": {
   "display_name": "gnssrefl_jupyter",
   "language": "python",
   "name": "gnssrefl_jupyter"
  },
  "language_info": {
   "codemirror_mode": {
    "name": "ipython",
    "version": 3
   },
   "file_extension": ".py",
   "mimetype": "text/x-python",
   "name": "python",
   "nbconvert_exporter": "python",
   "pygments_lexer": "ipython3",
   "version": "3.9.8"
  }
 },
 "nbformat": 4,
 "nbformat_minor": 4
}
