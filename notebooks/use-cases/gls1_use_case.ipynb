{
 "cells": [
  {
   "cell_type": "code",
   "execution_count": null,
   "id": "4458d0d1",
   "metadata": {},
   "outputs": [],
   "source": [
    "import os\n",
    "import sys\n",
    "import re\n",
    "import json\n",
    "import pandas as pd \n",
    "import numpy as np\n",
    "import seaborn as sns; sns.set_theme(style=\"whitegrid\");\n",
    "import matplotlib.pyplot as plt\n",
    "\n",
    "# We are including our repository bin to the system path so that we can import the following python modules\n",
    "bin_path = os.path.abspath(os.path.join('../../bin'))\n",
    "if bin_path not in sys.path:\n",
    "    sys.path.append(bin_path)\n",
    "    \n",
    "import run_gnssrefl \n",
    "import gnssrefl_helpers\n",
    "\n",
    "%matplotlib inline"
   ]
  },
  {
   "cell_type": "code",
   "execution_count": null,
   "id": "1f88ea6d",
   "metadata": {},
   "outputs": [],
   "source": [
    "#Making sure environment variables are set - this is required to run the gnssrefl code\n",
    "exists = gnssrefl_helpers.check_environment()\n",
    "if exists == False:\n",
    "    gnssrefl_helpers.set_environment()\n",
    "else:\n",
    "     print('environment variable ORBITS path is', os.environ['ORBITS'],\n",
    "          '\\nenvironment variable REFL_CODE path is', os.environ['REFL_CODE'],\n",
    "          '\\nenvironment variable EXE path is', os.environ['EXE'])\n",
    "        \n",
    "refl_code_loc = os.environ['REFL_CODE']\n",
    "# import the crx2rnx file which is dependant on your working OS - this is required to run the gnssrefl code\n",
    "gnssrefl_helpers.download_crx2rnx()"
   ]
  },
  {
   "cell_type": "markdown",
   "id": "494c4836",
   "metadata": {},
   "source": [
    "# Dye2, Greenland \n",
    "\n",
    "**Station Name:** gls1\n",
    "\n",
    "**Location:**  Dye2, Qeqqata Province, Greenland \n",
    "\n",
    "**Archive:**  [UNAVCO](http://www.unavco.org), [SOPAC](http://sopac-csrc.ucsd.edu/index.php/sopac/)\n",
    "\n",
    "**DOI:**  [https://doi.org/10.7283/T5WS8RDB](https://doi.org/10.7283/T5WS8RDB)\n",
    "\n",
    "**Ellipsoidal Coordinates:**\n",
    "\n",
    "- Latitude: 66.47940\n",
    "\n",
    "- Longitude:  -46.31015\n",
    "\n",
    "- Height: 2150 m\n",
    "\n",
    "[Station Page at UNAVCO](https://www.unavco.org/instrumentation/networks/status/nota/overview/gls1)\n",
    "\n",
    "[Station Page at Nevada Geodetic Laboratory](http://geodesy.unr.edu/NGLStationPages/stations/GLS1.sta)\n",
    "\n",
    "[Google Maps Link](https://goo.gl/maps/391a7h2HpacAa59u8) \n",
    "\n",
    "<img src=\"../../data/gls1-photo.png\" width=\"400\">\n",
    "<img src=\"../../data/gls1.jpg\" width=\"400\">\n",
    "<BR>\n"
   ]
  },
  {
   "cell_type": "markdown",
   "id": "c1840fe5",
   "metadata": {},
   "source": [
    "## Data Summary\n",
    "\n",
    "Station gls1 was installed at [Dye2](http://greenlandtoday.com/dye-2-a-relic-from-a-not-so-distant-past/?lang=en) on the Greenland Ice Sheet in 2011. \n",
    "The antenna is mounted on a long pole; approximately 3.5-meter of the pole was above the ice at the time of installation. \n",
    "The receiver at the site only consistently tracks legacy GPS signals. A detailed discussion of the monument and \n",
    "data from the station can be found in [Larson, MacFerrin, and Nylen (2020)](https://tc.copernicus.org/articles/14/1985/2020/tc-14-1985-2020.pdf). \n",
    "The latest position time series for gls1 can be retrieved \n",
    "from the [Nevada Geodetic Laboratory](http://geodesy.unr.edu/gps_timeseries/tenv3/IGS14/GLS1.tenv3). \n",
    "We also have a utility you can use: **download_unr**\n",
    "\n",
    "As gls1 is on an ice sheet and the ice surface is relatively smooth in all directions, it \n",
    "is unlikely that a complicated azimuth mask will be required.\n",
    "gls1 was originally installed with an elevation mask of 7 degrees, which is suboptimal for reflections research.\n",
    "Even though the mask was later removed, we will use 7 degrees as the minimum elevation angle for all our analysis.\n",
    "Similarly, even though the site managers later changed to enable L2C tracking, to ensure that \n",
    "a consistent dataset is being used, we will only use L1 data. "
   ]
  },
  {
   "cell_type": "code",
   "execution_count": null,
   "id": "9f367988",
   "metadata": {},
   "outputs": [],
   "source": [
    "%%html\n",
    "<iframe src=\"https://gnss-reflections.org/api?example=gls1\" width=\"800\" height=\"950\"></iframe>"
   ]
  },
  {
   "cell_type": "markdown",
   "id": "b10b786f",
   "metadata": {},
   "source": [
    "## quickLook \n",
    "\n",
    "Our ultimate goal in this use case is to analyze one year of data. We have chosen the year \n",
    "2012 because there was a large melt event on the ice sheet. In order to set the proper\n",
    "quality control parameters, we will use **quickLook** for one day. First we need to translate \n",
    "one day of RINEX data using **rinex2snr**. We will use day of year 100:"
   ]
  },
  {
   "cell_type": "code",
   "execution_count": null,
   "id": "46681bb5",
   "metadata": {},
   "outputs": [],
   "source": [
    "station = 'gls1'\n",
    "year = 2012 \n",
    "doy = 100\n",
    "\n",
    "lat = 66.4794\n",
    "long = -46.3102\n",
    "height = 2148.578"
   ]
  },
  {
   "cell_type": "code",
   "execution_count": null,
   "id": "2761900b",
   "metadata": {},
   "outputs": [],
   "source": [
    "# To understand what rinex2snr returns, you can uncomment the next line of code to learn more about this function \n",
    "# and it's default parameters\n",
    "# check_parameters.rinex2snr?\n",
    "run_gnssrefl.rinex2snr(station, year, doy, translator='hybrid')"
   ]
  },
  {
   "cell_type": "code",
   "execution_count": null,
   "id": "a90ef352",
   "metadata": {},
   "outputs": [],
   "source": [
    "values, metrics = run_gnssrefl.quicklook(station, year, doy=doy)\n",
    "\n",
    "fig, axes = plt.subplots(ncols=2, nrows=2, figsize=(10,10), sharex=True)\n",
    "fig.suptitle(f'QuickLook: {station}', size=16)\n",
    "\n",
    "quadrants = ['NW', 'NE', 'SW', 'SE']\n",
    "\n",
    "for i, ax in enumerate(axes.flat):\n",
    "    for fail_satellite in values[f'f{quadrants[i]}']:\n",
    "        g = sns.lineplot(x=values[f'f{quadrants[i]}'][fail_satellite][0], y=values[f'f{quadrants[i]}'][fail_satellite][1], ax=ax, color='lightgrey')\n",
    "    for satellite in values[quadrants[i]]:\n",
    "        g = sns.lineplot(x=values[quadrants[i]][satellite][0], y=values[quadrants[i]][satellite][1], ax=ax)\n",
    "    g.set_ylabel('volts/volts')\n",
    "    g.set_xlabel('reflector height (m)')\n",
    "\n",
    "plt.tight_layout()\n",
    "plt.show()"
   ]
  },
  {
   "cell_type": "markdown",
   "id": "eaf147ac",
   "metadata": {},
   "source": [
    "This is a geographically oriented-summary of the frequency content of the GPS data.\n",
    "The peaks in these periodograms tell us how high the GPS antenna is above the ice surface.\n",
    "The peaks are associated with a reflector height (RH) of ~2.5 meters. [For more details on quicklook output](https://github.com/kristinemlarson/gnssrefl/blob/master/docs/quickLook_desc.md)."
   ]
  },
  {
   "cell_type": "markdown",
   "id": "5983554e",
   "metadata": {},
   "source": [
    "The next plot shows results with respect to azimuth angle.  The top plot is RH and the other \n",
    "two are quality control measures: peak amplitude and peak to noise ratio.\n"
   ]
  },
  {
   "cell_type": "code",
   "execution_count": null,
   "id": "ed39f2d2",
   "metadata": {},
   "outputs": [],
   "source": [
    "success, fail = gnssrefl_helpers.quicklook_metrics(metrics)\n",
    "fig, axes = plt.subplots(ncols=1, nrows=3, figsize=(10,10), sharex=True)\n",
    "fig.suptitle(f'QuickLook Retrieval Metrics: {station} GPS L1', size=16)\n",
    "\n",
    "for i, ax in enumerate(axes):\n",
    "    g = sns.scatterplot(x='Azimuth',y=success.columns[i+1], data=success, ax=ax, label='good')\n",
    "    g = sns.scatterplot(x='Azimuth',y=fail.columns[i+1], data=fail, ax=ax, color='lightgrey', label='bad')\n",
    "    \n",
    "axes[0].legend(loc='upper right')\n",
    "\n",
    "avg_rh = np.mean(success['Reflector Height'])\n",
    "qc_val_peak2noise = round(min(success['Peak to Noise']))\n",
    "axes[1].axhline(qc_val_peak2noise, linestyle='--', color='black', label='QC value used')\n",
    "qc_val_amp = round(min(success['Amplitude']))\n",
    "axes[2].axhline(qc_val_amp, linestyle='--', color='black', label='QC value used')\n",
    "print(f'Average reflector height value: {avg_rh:.1f}')\n",
    "print('QC value for peak to noise:', qc_val_peak2noise)\n",
    "print('QC value for amplitude:', qc_val_amp)\n",
    "\n",
    "plt.tight_layout()\n",
    "plt.show()"
   ]
  },
  {
   "cell_type": "markdown",
   "id": "d650755d",
   "metadata": {},
   "source": [
    "In the top plot we see that the retrieved reflector heights are consistent at all azimuths.\n",
    "Retrievals for azimuths between 340 degrees and 40 degrees are consistently marked as not having\n",
    "met quality control settings.From the center plot we can see that a peak2noise QC metric of 3 is reasonable. \n",
    "Similarly, the amplitudes (bottom plot) are generally larger than 10, so 8 is an acceptable minimum value.\n",
    "\n",
    "Compare that to its level when the site was installed in the year 2011:"
   ]
  },
  {
   "cell_type": "code",
   "execution_count": null,
   "id": "98f4a922",
   "metadata": {},
   "outputs": [],
   "source": [
    "run_gnssrefl.rinex2snr(station, year=2011, doy=271, archive='unavco', translator='hybrid')\n",
    "\n",
    "\n",
    "values, metrics = run_gnssrefl.quicklook(station, 2011, doy=271)\n",
    "fig, axes = plt.subplots(ncols=2, nrows=2, figsize=(10,10), sharex=True)\n",
    "fig.suptitle(f'QuickLook: {station}', size=16)\n",
    "\n",
    "for i, ax in enumerate(axes.flat):\n",
    "    for fail_satellite in values[f'f{quadrants[i]}']:\n",
    "        g = sns.lineplot(x=values[f'f{quadrants[i]}'][fail_satellite][0], y=values[f'f{quadrants[i]}'][fail_satellite][1], ax=ax, color='lightgrey')\n",
    "    for satellite in values[quadrants[i]]:\n",
    "        g = sns.lineplot(x=values[quadrants[i]][satellite][0], y=values[quadrants[i]][satellite][1], ax=ax)\n",
    "    g.set_ylabel('volts/volts')\n",
    "    g.set_xlabel('reflector height (m)')\n",
    "\n",
    "plt.tight_layout()\n",
    "plt.show()"
   ]
  },
  {
   "cell_type": "markdown",
   "id": "dabaa569",
   "metadata": {},
   "source": [
    "The first step is to make SNR files for the year 2012:\n",
    "\n",
    "This should take ~5 minutes"
   ]
  },
  {
   "cell_type": "code",
   "execution_count": null,
   "id": "6867b51f",
   "metadata": {},
   "outputs": [],
   "source": [
    "run_gnssrefl.rinex2snr(station,year,1, doy_end=366, translator='hybrid')"
   ]
  },
  {
   "cell_type": "markdown",
   "id": "696c630c",
   "metadata": {},
   "source": [
    "We will next analyze a year of L1 GPS reflection data from this site. We will use the default minimum and maximum \n",
    "reflector height values (0.4 and 6 meters). But for the reasons previously stated, we will set a minimum elevation angle \n",
    "of 7 degrees. We also specify that we only want to use the L1 data and set peak2noise and a mimimum\n",
    "amplitude for the periodograms. We use the utility **make_json_input** to set and store these analysis settings:"
   ]
  },
  {
   "cell_type": "code",
   "execution_count": null,
   "id": "572361cb",
   "metadata": {},
   "outputs": [],
   "source": [
    "run_gnssrefl.make_json(station, lat, long, height, e1=7, peak2noise=3, ampl=8, l1=True)"
   ]
  },
  {
   "cell_type": "code",
   "execution_count": null,
   "id": "637e104c",
   "metadata": {},
   "outputs": [],
   "source": [
    "# This is the json file that was created\n",
    "json_file = f'{refl_code_loc}/input/gls1.json'\n",
    "with open(json_file, \"r\") as myfile:\n",
    "    file = json.load(myfile)\n",
    "    file['azval'] = [40,90,90,180,180,270,270,330]\n",
    "os.remove(json_file)\n",
    "with open(json_file, 'w') as f:\n",
    "    json.dump(file, f, indent=4)\n",
    "    \n",
    "with open(json_file, \"r\") as myfile:\n",
    "    file = json.load(myfile)\n",
    "\n",
    "file"
   ]
  },
  {
   "cell_type": "markdown",
   "id": "8f489538",
   "metadata": {},
   "source": [
    "We have also excluded a bit of the northern tracks by hand-editing the json. This is not required as \n",
    "the software appears to be appropriately removing these unreliable azimuths. Note: the removal of these\n",
    "azimuths is more related to the GPS satellite inclination than local conditions at gls1.\n",
    "\n",
    "Now that you have SNR files and json inputs, you can go ahead and estimate reflector heights for the year 2012:"
   ]
  },
  {
   "cell_type": "code",
   "execution_count": null,
   "id": "d2421ac0",
   "metadata": {},
   "outputs": [],
   "source": [
    "#run_gnssrefl.gnssir?"
   ]
  },
  {
   "cell_type": "code",
   "execution_count": null,
   "id": "534e5f03",
   "metadata": {},
   "outputs": [],
   "source": [
    "year = 2012\n",
    "doy = 1\n",
    "doy_end = 366\n",
    "plot=False\n",
    "run_gnssrefl.gnssir(station, year, doy, doy_end=doy_end, plt=plot, screenstats=False)"
   ]
  },
  {
   "cell_type": "markdown",
   "id": "003c6b40",
   "metadata": {},
   "source": [
    "We will use the **daily_avg** tool to compute a daily average RH. A median filter is set to 0.25 meters \n",
    "and 30 individual tracks are required in order to recover a daily average:"
   ]
  },
  {
   "cell_type": "code",
   "execution_count": null,
   "id": "e7229acf",
   "metadata": {},
   "outputs": [],
   "source": [
    "run_gnssrefl.daily_avg(station, medfilter=.25, ReqTracks=30, plt2screen=False, txtfile='gls1-dailyavg.txt')"
   ]
  },
  {
   "cell_type": "code",
   "execution_count": null,
   "id": "cd078ae4",
   "metadata": {},
   "outputs": [],
   "source": [
    "filepath = f'{refl_code_loc}/Files/{station}_allRH.txt'\n",
    "data = gnssrefl_helpers.read_allrh_file(filepath)\n",
    "\n",
    "df = pd.DataFrame(data, index=None, columns=['dates', 'rh'])\n",
    "plt.figure(figsize=(8,8))\n",
    "g = sns.scatterplot(x='dates', y='rh', data=df, hue='dates', palette='colorblind', legend=False)\n",
    "g.set_ylim(3.8, 2.1)\n",
    "g.set_ylabel('Reflector Height (m)');"
   ]
  },
  {
   "cell_type": "code",
   "execution_count": null,
   "id": "7e108197",
   "metadata": {},
   "outputs": [],
   "source": [
    "plt.figure(figsize=(8,8))\n",
    "df_group = df.groupby(['dates']).agg(['count'])\n",
    "g = sns.scatterplot(data=df_group)\n",
    "g.set_title('Number of values used in the daily average', size=16);"
   ]
  },
  {
   "cell_type": "code",
   "execution_count": null,
   "id": "4c860679",
   "metadata": {},
   "outputs": [],
   "source": [
    "filepath = f'{refl_code_loc}/Files/{station}-dailyavg.txt'\n",
    "data = gnssrefl_helpers.read_allrh_file(filepath)\n",
    "df = pd.DataFrame(data, index=None, columns=['dates', 'rh'])"
   ]
  },
  {
   "cell_type": "code",
   "execution_count": null,
   "id": "e359c79c",
   "metadata": {},
   "outputs": [],
   "source": [
    "plt.figure(figsize=(8,8))\n",
    "g = sns.scatterplot(x='dates', y='rh', data=df, legend=False)\n",
    "g.set_ylim(3.6,2.3)\n",
    "g.set_ylabel('Reflector Height (m)');"
   ]
  },
  {
   "cell_type": "markdown",
   "id": "1b8eb93a",
   "metadata": {},
   "source": [
    "Three plots are returned. The first is all tracks. The second shows the number of tracks used in the daily average.Finally, the average RH each day for the year 2012.\n",
    "\n",
    "This data shown in the last plot show you long-term accumulation as well as relatively small snow accumulation events. The overall \n",
    "plot is dominated by the large melt event in the summer."
   ]
  },
  {
   "cell_type": "markdown",
   "id": "c758718b",
   "metadata": {},
   "source": [
    "**Things to think about:**\n",
    "\n",
    "* Why do the number of useable tracks drop drastically at various times in the year?\n",
    "\n",
    "* Why are the number of tracks retrieved in the summer days consistently higher in number than \n",
    "in other times of the year? What is different about the surface in the summer of 2012?\n",
    "\n",
    "* How would you find out whether this year was anomalously large melt?  \n",
    "\n",
    "* Try comparing the GNSS-IR results with the [validation data](https://tc.copernicus.org/articles/14/1985/2020/tc-14-1985-2020.pdf)\n",
    "\n",
    "The original [J. Glaciology paper](https://www.kristinelarson.net/wp-content/uploads/2015/10/LarsonWahrKuipers_2015.pdf ) discussing this site."
   ]
  },
  {
   "cell_type": "code",
   "execution_count": null,
   "id": "a7977fbc",
   "metadata": {},
   "outputs": [],
   "source": []
  }
 ],
 "metadata": {
  "kernelspec": {
   "display_name": "gnssrefl_jupyter",
   "language": "python",
   "name": "gnssrefl_jupyter"
  },
  "language_info": {
   "codemirror_mode": {
    "name": "ipython",
    "version": 3
   },
   "file_extension": ".py",
   "mimetype": "text/x-python",
   "name": "python",
   "nbconvert_exporter": "python",
   "pygments_lexer": "ipython3",
   "version": "3.9.0"
  }
 },
 "nbformat": 4,
 "nbformat_minor": 5
}
