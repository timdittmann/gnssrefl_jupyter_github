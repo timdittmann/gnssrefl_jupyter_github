{
 "cells": [
  {
   "cell_type": "markdown",
   "id": "8f2270a2",
   "metadata": {},
   "source": [
    "### Niwot Ridge, Colorado, USA\n",
    "\n",
    "**Station name:** nwot\n",
    "\n",
    "**Location:** [Niwot Ridge LTER](https://nwt.lternet.edu)\n",
    "\n",
    "**Archive:** [UNAVCO](https://www.unavco.org)\n",
    "\n",
    "**Ellipsoidal Coordinates:**\n",
    "\n",
    "- Latitude: 40.05539 \n",
    "\n",
    "- Longitude: -105.59053\n",
    "\n",
    "- Height(m): 3522.729 \n",
    "\n",
    "[UNAVCO station page](https://www.unavco.org/instrumentation/networks/status/nota/overview/NWOT)\n",
    "\n",
    "\n",
    "\n",
    "<img src=\"https://www.unavco.org/data/gps-gnss/lib/images/station_images/NWOT.jpg\" width=500/>\n"
   ]
  },
  {
   "cell_type": "markdown",
   "id": "e759fe04",
   "metadata": {},
   "source": [
    "### Data Summary\n",
    "Station nwot was originally installed/designed to support GPS reflections research. The site was hosted by the Niwot Ridge LTER.\n",
    "\n",
    "nwot was made to be taller than the typical geodetic antenna so that it would not be buried by snow. It is about 3 meters above the bare soil surface. Because it was installed to support testing GPS reflections, nwot has always tracked L2C.\n",
    "\n",
    "For this example, we will focus on the data between 2009-2015.\n",
    "\n",
    "### Imports"
   ]
  },
  {
   "cell_type": "code",
   "execution_count": null,
   "id": "08733fd1",
   "metadata": {
    "ExecuteTime": {
     "end_time": "2022-05-27T06:29:45.492495Z",
     "start_time": "2022-05-27T06:29:40.480590Z"
    }
   },
   "outputs": [],
   "source": [
    "import os\n",
    "import sys\n",
    "import re\n",
    "import json\n",
    "import pandas as pd \n",
    "import numpy as np\n",
    "import seaborn as sns; sns.set_theme(style=\"whitegrid\");\n",
    "import matplotlib.pyplot as plt\n",
    "import datetime\n",
    "\n",
    "# import gnssrefl functions\n",
    "from gnssrefl.rinex2snr_cl import rinex2snr \n",
    "from gnssrefl.quickLook_cl import quicklook\n",
    "from gnssrefl.make_json_input import make_json\n",
    "from gnssrefl.gnssir_cl import gnssir\n",
    "from gnssrefl.daily_avg_cl import daily_avg\n",
    "\n",
    "# We are including our repository bin to the system path so that we can import the following python modules\n",
    "bin_path = os.path.abspath(os.path.join('../../bin'))\n",
    "if bin_path not in sys.path:\n",
    "    sys.path.append(bin_path)\n",
    "    \n",
    "# import run_gnssrefl \n",
    "import gnssrefl_helpers\n",
    "\n",
    "%matplotlib inline"
   ]
  },
  {
   "cell_type": "code",
   "execution_count": null,
   "id": "11245b4a",
   "metadata": {
    "ExecuteTime": {
     "end_time": "2022-05-27T06:29:48.115233Z",
     "start_time": "2022-05-27T06:29:45.494238Z"
    },
    "pycharm": {
     "name": "#%%\n"
    }
   },
   "outputs": [],
   "source": [
    "#Making sure environment variables are set\n",
    "exists = gnssrefl_helpers.check_environment()\n",
    "if exists == False:\n",
    "    gnssrefl_helpers.set_environment()\n",
    "else:\n",
    "     print('environment variable ORBITS path is:\\n', os.environ['ORBITS'],\n",
    "          '\\nenvironment variable REFL_CODE path is:\\n', os.environ['REFL_CODE'],\n",
    "          '\\nenvironment variable EXE path is:\\n', os.environ['EXE'])\n",
    "        \n",
    "refl_code_loc = os.environ['REFL_CODE']\n",
    "# import the crx2rnx file which is dependant on your working OS - this is required to run the gnssrefl code\n",
    "try:\n",
    "    os.environ['DOCKER']\n",
    "except KeyError:\n",
    "    gnssrefl_helpers.download_crx2rnx()"
   ]
  },
  {
   "cell_type": "code",
   "execution_count": null,
   "id": "7a660655",
   "metadata": {},
   "outputs": [],
   "source": [
    "# This is only for these use cases \n",
    "# you can set pltscreen=True in quicklook to print these plots as well\n",
    "\n",
    "def pretty_plots(station, values, frequency,metrics=None):\n",
    "    # plotting the quicklook graph periodograms\n",
    "    fig, axes = plt.subplots(ncols=2, nrows=2, figsize=(12,10), sharex=True)\n",
    "    fig.suptitle(f'QuickLook: {station},{frequency}', size=16)\n",
    "\n",
    "    quadrants = ['NW', 'NE', 'SW', 'SE']\n",
    "    quadrant_labels = ['Northwest','Northeast', 'Southwest', 'Southeast']\n",
    "\n",
    "    for i, ax in enumerate(axes.flat):\n",
    "        quad = quadrants[i]\n",
    "        for fail_satellite in values[f'f{quad}']:\n",
    "            g = sns.lineplot(x=values[f'f{quad}'][fail_satellite][0],\n",
    "                             y=values[f'f{quad}'][fail_satellite][1],\n",
    "                             ax=ax, color='lightgrey')\n",
    "        for satellite in values[quad]:\n",
    "            g = sns.lineplot(x=values[quad][satellite][0],\n",
    "                             y=values[quad][satellite][1],\n",
    "                             ax=ax)\n",
    "        g.set_title(quadrant_labels[i])\n",
    "        g.set_ylabel('volts/volts')\n",
    "        g.set_xlabel('reflector height (m)')\n",
    "\n",
    "    if metrics:\n",
    "        success, fail = gnssrefl_helpers.quicklook_metrics(metrics)\n",
    "        fig, axes = plt.subplots(ncols=1, nrows=3, figsize=(10,10), sharex=True)\n",
    "        fig.suptitle(f'QuickLook Retrieval Metrics: {station}, {frequency}', size=16)\n",
    "\n",
    "        for i, ax in enumerate(axes):\n",
    "            g = sns.scatterplot(x='Azimuth',y=success.columns[i+1], data=success, ax=ax, label='good')\n",
    "            g = sns.scatterplot(x='Azimuth',y=fail.columns[i+1], data=fail, ax=ax, color='lightgrey', label='bad')\n",
    "\n",
    "        axes[0].legend(loc='upper right')\n",
    "\n",
    "        avg_rh = np.mean(success['Reflector Height'])\n",
    "        print(f'Average reflector height value: {avg_rh:.1f}')\n",
    "\n",
    "    plt.tight_layout()\n",
    "    plt.show()"
   ]
  },
  {
   "cell_type": "markdown",
   "id": "a0eb1ae5",
   "metadata": {},
   "source": [
    "### Make a SNR File and run quickLook\n",
    "\n",
    "We will start by making a SNR file. The main archive for this dataset only provides the high-quality L2C data in the highrate (1-sec) area. We do not need this sample rate for GPS reflectometry, we will use the \"special\" archive option where the 1-sec data have been decimated to 15 seconds:"
   ]
  },
  {
   "cell_type": "code",
   "execution_count": null,
   "id": "0e062e46",
   "metadata": {},
   "outputs": [],
   "source": [
    "station = 'nwot'\n",
    "year = 2014 \n",
    "doy = 270\n",
    "\n",
    "lat = 40.055\n",
    "long = -105.591\n",
    "height = 3522.449"
   ]
  },
  {
   "cell_type": "code",
   "execution_count": null,
   "id": "402a25a7",
   "metadata": {},
   "outputs": [],
   "source": [
    "rinex2snr?"
   ]
  },
  {
   "cell_type": "code",
   "execution_count": null,
   "id": "4e9d5a7c",
   "metadata": {},
   "outputs": [],
   "source": [
    "rinex2snr(station, year, doy, archive='special')"
   ]
  },
  {
   "cell_type": "markdown",
   "id": "8ed12404",
   "metadata": {},
   "source": [
    "Now let's use this **quickLook** command to get a sense of the quality of the \n",
    "reflector height (RH) retrievals. \n",
    "\n",
    "First L1:"
   ]
  },
  {
   "cell_type": "code",
   "execution_count": null,
   "id": "6e18b167",
   "metadata": {},
   "outputs": [],
   "source": [
    "values, metrics = quicklook(station, year, doy=doy, pltscreen=False)\n",
    "pretty_plots(station, values, 'GPS L1', metrics)"
   ]
  },
  {
   "cell_type": "markdown",
   "id": "69a656e0",
   "metadata": {},
   "source": [
    "These periodograms are a bit busy in the low RH area. But there are \n",
    "nice strong peaks in a few of the quadrants. So we can see from this that there may be some azimuth ranges that we will want to remove for teh analysis."
   ]
  },
  {
   "cell_type": "markdown",
   "id": "6ce789d2",
   "metadata": {},
   "source": [
    "Now try L2:"
   ]
  },
  {
   "cell_type": "code",
   "execution_count": null,
   "id": "62d4f33b",
   "metadata": {},
   "outputs": [],
   "source": [
    "# Plotting using pltscreen=True\n",
    "values, metrics = quicklook(station, year, doy=doy, fr=2, pltscreen=False)\n",
    "pretty_plots(station, values, 'GPS L2')"
   ]
  },
  {
   "cell_type": "markdown",
   "id": "8f9e79f9",
   "metadata": {},
   "source": [
    "This plot will have both L2C and non-L2C. There are failed tracks in the gray that are the non-L2C signals.\n",
    "\n",
    "See L2C only:"
   ]
  },
  {
   "cell_type": "code",
   "execution_count": null,
   "id": "5c34e7b3",
   "metadata": {},
   "outputs": [],
   "source": [
    "values, metrics = quicklook(station, year, doy=doy, fr=20, pltscreen=False)\n",
    "pretty_plots(station, values, 'GPS L2C', metrics)"
   ]
  },
  {
   "cell_type": "markdown",
   "id": "78f898ee",
   "metadata": {},
   "source": [
    "Those failed tracks are now gone and we will use L2C and not all of L2."
   ]
  },
  {
   "cell_type": "markdown",
   "id": "6bad86a9",
   "metadata": {},
   "source": [
    "### Make multiple years of SNR files \n",
    "\n",
    "We are going to look at the data from installation (Fall 2009) through Spring 2015. To speed things\n",
    "up I will run 2009 and 2015 separately, while the year 2010 through 2014 can be analyzed in \n",
    "one line:"
   ]
  },
  {
   "cell_type": "code",
   "execution_count": null,
   "id": "17e95e3e",
   "metadata": {},
   "outputs": [],
   "source": [
    "rinex2snr(station, year=2009, doy=240, doy_end=365, archive='special', fortran=True)\n",
    "\n",
    "\n",
    "# rinex2snr(station, year=2010, doy=1, doy_end=366, archive='special', year_end=2014, fortran=True)\n",
    "\n",
    "\n",
    "# rinex2snr(station, year=2015, doy=1, doy_end=120, archive='special', fortran=True)\n"
   ]
  },
  {
   "cell_type": "markdown",
   "id": "5c586c07",
   "metadata": {},
   "source": [
    "### Run gnssir for multiple years\n",
    "Make a json file for your gnssir analysis:\n",
    "\n",
    "\n",
    "We will use a peak to noise of about 3 and a spectral peak amplitude of 8. We'll also use the southern quadrants (azimuths 90 through 270). We should note that since L5 was not tracked at this site, we will not include it in the json file. Well use a minimum elevation angle of 7 degrees because this particular receiver had a limit on the number of satellites it could track."
   ]
  },
  {
   "cell_type": "code",
   "execution_count": null,
   "id": "ad3c51b3",
   "metadata": {},
   "outputs": [],
   "source": [
    "make_json(station, lat, long, height, e1=7, peak2noise=3.2, ampl=8)"
   ]
  },
  {
   "cell_type": "code",
   "execution_count": null,
   "id": "70ce469d",
   "metadata": {},
   "outputs": [],
   "source": [
    "# This is the json file that was created\n",
    "json_file = './input/nwot.json'\n",
    "with open(json_file, \"r\") as myfile:\n",
    "    file = json.load(myfile)\n",
    "file"
   ]
  },
  {
   "cell_type": "markdown",
   "id": "6dfb78dc",
   "metadata": {},
   "source": [
    "Now we will set our azimuth range and the frequencies manually."
   ]
  },
  {
   "cell_type": "code",
   "execution_count": null,
   "id": "a93e8d31",
   "metadata": {},
   "outputs": [],
   "source": [
    "# This is the json file that was created\n",
    "json_file = './input/nwot.json'\n",
    "with open(json_file, \"r\") as myfile:\n",
    "    file = json.load(myfile)\n",
    "    file['azval'] = [90, 180, 180, 270]\n",
    "    file['freqs'] = [1,20]\n",
    "os.remove(json_file)\n",
    "with open(json_file, 'w') as f:\n",
    "    json.dump(file, f, indent=4)\n",
    "    \n",
    "with open(json_file, \"r\") as myfile:\n",
    "    file = json.load(myfile)\n",
    "\n",
    "file"
   ]
  },
  {
   "cell_type": "markdown",
   "id": "fe67b59d",
   "metadata": {},
   "source": [
    "Run gnssir for the years 2009-2015:"
   ]
  },
  {
   "cell_type": "code",
   "execution_count": null,
   "id": "0269f838",
   "metadata": {},
   "outputs": [],
   "source": [
    "year = 2009\n",
    "doy = 1\n",
    "doy_end = 365\n",
    "year_end = 2009 \n",
    "plot=False\n",
    "gnssir(station, year, doy, doy_end=doy_end, year_end=year_end, plt=plot, screenstats=False)"
   ]
  },
  {
   "cell_type": "markdown",
   "id": "5b0bc2a1",
   "metadata": {},
   "source": [
    "### Compute daily average RH values\n",
    "Now we will use the daily_avg utility to compute RH for each day. A median filter of 0.25 meter is used to eliminate large outliers and a minimum number of tracks will be set to 10. This is relatively low because of the small number of L2C transmitting satellites in the early years of the dataset."
   ]
  },
  {
   "cell_type": "code",
   "execution_count": null,
   "id": "7a7bf2bd",
   "metadata": {},
   "outputs": [],
   "source": [
    "daily_avg(station, medfilter=.25, ReqTracks=10, year1=2009, year2=2010, plt2screen=False, txtfile='nwot-dailyavg.txt')"
   ]
  },
  {
   "cell_type": "code",
   "execution_count": null,
   "id": "9bff2704",
   "metadata": {},
   "outputs": [],
   "source": [
    "filepath = f'{refl_code_loc}/Files/{station}_allRH.txt'\n",
    "data = gnssrefl_helpers.read_rh_files(filepath)\n",
    "\n",
    "df = pd.DataFrame(data, index=None, columns=['dates', 'rh'])\n",
    "plt.figure(figsize=(8,8))\n",
    "g = sns.scatterplot(x='dates', y='rh', data=df, hue='dates', palette='colorblind', legend=False)\n",
    "g.set_ylim()\n",
    "g.set_ylabel('Reflector Height (m)');"
   ]
  },
  {
   "cell_type": "markdown",
   "id": "1a7781e9",
   "metadata": {},
   "source": [
    "This first plot shows all of the reflector heights calculated. Next we can show the number of values used in each daily average."
   ]
  },
  {
   "cell_type": "code",
   "execution_count": null,
   "id": "42b2603a",
   "metadata": {},
   "outputs": [],
   "source": [
    "plt.figure(figsize=(8,8))\n",
    "df_group = df.groupby(['dates']).agg(['count'])\n",
    "g = sns.scatterplot(data=df_group)\n",
    "g.set_title('Number of values used in the daily average', size=16);"
   ]
  },
  {
   "cell_type": "markdown",
   "id": "83a9f541",
   "metadata": {},
   "source": [
    "and then we can plot the daily averages:"
   ]
  },
  {
   "cell_type": "code",
   "execution_count": null,
   "id": "bbe511fe",
   "metadata": {},
   "outputs": [],
   "source": [
    "filepath = f'{refl_code_loc}/Files/{station}-dailyavg.txt'\n",
    "data = gnssrefl_helpers.read_rh_files(filepath)\n",
    "df = pd.DataFrame(data, index=None, columns=['dates', 'rh'])\n",
    "\n",
    "plt.figure(figsize=(8,8))\n",
    "g = sns.scatterplot(x='dates', y='rh', data=df, legend=False)\n",
    "g.set_ylim(3.4,.5)\n",
    "g.set_ylabel('Reflector Height (m)');"
   ]
  },
  {
   "cell_type": "markdown",
   "id": "54e42e37",
   "metadata": {},
   "source": [
    "The GPS site at Niwot Ridge was installed because there was a long-standing experiment \n",
    "for measuring snow depth. We therefore have a way to assess\n",
    "accuracy. We download the *in situ* data from \n",
    "the [Niwot Ridge facility](https://portal.edirepository.org/nis/mapbrowse?scope=knb-lter-nwt&identifier=34) and will compare to pole 16."
   ]
  },
  {
   "cell_type": "markdown",
   "id": "43094716",
   "metadata": {},
   "source": [
    "<code>snow depth = RH_baresoil - RH</code>\n",
    "\n",
    "We will make an estimate of the bare soil reflector height by taking an average of the reflector heights from august to mid september."
   ]
  },
  {
   "cell_type": "code",
   "execution_count": null,
   "id": "044a7d14",
   "metadata": {},
   "outputs": [],
   "source": [
    "df['doy'] = pd.to_datetime(df['dates']).dt.dayofyear\n",
    "\n",
    "# get average ground height without snow\n",
    "# Using august and mid-september to determine \"no snow level\"\n",
    "RH_baresoil = df[(df['doy']>=213) & (df['doy']<= 258)]['rh'].mean()\n",
    "\n",
    "df['rh'] = RH_baresoil - df['rh']"
   ]
  },
  {
   "cell_type": "markdown",
   "id": "67c07529",
   "metadata": {},
   "source": [
    "We will then download the data and plot it over the same time period that we analyzed."
   ]
  },
  {
   "cell_type": "code",
   "execution_count": null,
   "id": "6520e357",
   "metadata": {},
   "outputs": [],
   "source": [
    "# in situ data for Niwot Ridge LTER\n",
    "# https://portal.edirepository.org/nis/mapbrowse?scope=knb-lter-nwt&identifier=34\n",
    "# this is the file we need - it is also stored at Kristine Larsons github.\n",
    "data_path = 'https://pasta.lternet.edu/package/data/eml/knb-lter-nwt/31/18/6354b6f6c6d4ef8d6334cb3302644164'\n",
    "data_path  = data_path.replace(\"https://\",\"http://\")\n",
    "data = pd.read_csv(data_path, delimiter=',', skiprows=1, dtype='str', usecols=(3,2,4), index_col=None)\n",
    "\n",
    "dt1 =pd.read_csv(data_path, skiprows=1, sep=\",\", quotechar='\"',\n",
    "                 names=[\"LTER_site\", \"local_site\", \"point_ID\", \"date\",\"depth_stake\",\"depth_n\",\"depth_e\",\"depth_s\",\"depth_w\",\"mean_depth\",\"num_meas\"],\n",
    "                 parse_dates=['date'],\n",
    "                 na_values={'LTER_site':['NaN'], \"local_site\":['NaN'], \"point_ID\":['NaN'], \"date\":['NaN'],\"depth_stake\":['NaN'],\"depth_n\":['NaN'],\"depth_e\":['NaN'],\"depth_s\":['NaN'],\"depth_w\":['NaN'],\"mean_depth\":['NaN'],\"num_meas\":['NaN']})\n",
    "\n",
    "\n",
    "date_range = pd.date_range('2009-09-01', '2015-05-01')\n",
    "\n",
    "insitu = dt1.loc[(dt1['date'].isin(date_range)) & (dt1['point_ID'] == 16)]\n",
    "insitu['depth_stake'] = insitu['depth_stake'].astype(float)/100\n",
    "\n",
    "per_date = insitu[['date', 'depth_stake']].groupby(by=['date']).mean()"
   ]
  },
  {
   "cell_type": "code",
   "execution_count": null,
   "id": "e77bc23d",
   "metadata": {},
   "outputs": [],
   "source": [
    "plt.figure(figsize=(10,8))\n",
    "g = sns.scatterplot(x='dates', y='rh', data=df, legend=False, label='GPS_IR')\n",
    "\n",
    "g2 = sns.scatterplot(x='date', y='depth_stake', data=insitu, s=80, label='Manual - Pole16')\n",
    "\n",
    "g.set_ylabel('meters')\n",
    "g.set_xlabel('Years')\n",
    "g.set_title('Snow Depth, Niwot Ridge LTR Saddle', size=18)\n",
    "g.set_ylim(-.05,3)\n",
    "\n",
    "\n",
    "plt.show()"
   ]
  },
  {
   "cell_type": "markdown",
   "id": "b58ad7d1",
   "metadata": {},
   "source": [
    "Citation for data:\n",
    "\n",
    "Walker, S., J. Morse, and Niwot Ridge LTER. 2020. Snow depth data for saddle snowfence, 1992 - ongoing. ver 11. Environmental Data Initiative. [https://doi.org/10.6073/pasta/abf23758a2e5194aded95bd18c8cbf27] (Accessed 2021-10-19).\n",
    "\n",
    "\n",
    "This is one of those cases where we would want to note that pole measurements are not representative of the same\n",
    "footprint as the GPS measurements. As GPS measurements cover an average over a much larger region.\n",
    "\n",
    "We do not continue with a more quantitative comparison for this demo as there are at least two \n",
    "publications in journals and a PhD Dissertation:\n",
    "\n",
    "[Gutmann, E., K. M. Larson, M. Williams, F.G. Nievinski, and V. Zavorotny, \n",
    "Snow measurement by GPS interferometric reflectometry: an evaluation at Niwot Ridge, Colorado, Hydrologic Processes, Vol. 26, 2951-2961, 2012](https://www.kristinelarson.net/wp-content/uploads/2015/10/GutmannEtAl_2012.pdf)\n",
    "\n",
    "[Nievinski, F.G. and K.M. Larson, Inverse Modeling of GPS Multipath for Snow Depth Estimation, Part II: Application and Validation, IEEE TGRS, Vol. 52(10), 6564-6573, doi:10.1109/TGRS.2013.2297688, 2014](https://www.kristinelarson.net/wp-content/uploads/2015/10/felipe_inv2_revised.pdf)\n",
    "\n",
    "[Nievinski, F.G., Ph.D. Dissertation, University of Colorado, 2013](https://www.researchgate.net/publication/258848060_Forward_and_Inverse_Modeling_of_GPS_Multipath_for_Snow_Monitoring)"
   ]
  },
  {
   "cell_type": "code",
   "execution_count": null,
   "id": "a9a58e7e",
   "metadata": {},
   "outputs": [],
   "source": []
  }
 ],
 "metadata": {
  "kernelspec": {
   "display_name": "gnssrefl_jupyter",
   "language": "python",
   "name": "gnssrefl_jupyter"
  },
  "language_info": {
   "codemirror_mode": {
    "name": "ipython",
    "version": 3
   },
   "file_extension": ".py",
   "mimetype": "text/x-python",
   "name": "python",
   "nbconvert_exporter": "python",
   "pygments_lexer": "ipython3",
   "version": "3.9.8"
  }
 },
 "nbformat": 4,
 "nbformat_minor": 5
}
