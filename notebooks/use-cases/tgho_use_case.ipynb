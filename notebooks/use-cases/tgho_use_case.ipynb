{
 "cells": [
  {
   "cell_type": "markdown",
   "id": "d40ddc65",
   "metadata": {},
   "source": [
    "### Lake Taupo\n",
    "\n",
    "**Station Name:** tgho \n",
    "\n",
    "**Location:** North Island, New Zealand\n",
    "\n",
    "**Archive:** [Geonet](https://www.geonet.org.nz/)\n",
    "\n",
    "**DOI:**  \tN/A\n",
    "\n",
    "**Ellipsoidal Coordinates:**\n",
    "\n",
    "- Latitude: -38.813\n",
    "\n",
    "- Longitude: 175.996\n",
    "\n",
    "- Height: -38.813 m\n",
    "\n",
    "[Station Page at Geonet](https://www.geonet.org.nz/data/network/mark/TGHO)\n",
    "\n",
    "[Station Page at Nevada Geodetic Laboratory](http://geodesy.unr.edu/NGLStationPages/stations/TGHO.sta)\n",
    "\n",
    "[Google Map Link](https://goo.gl/maps/1zmgi6rRHPVPDAfV8)\n",
    "\n",
    "<p align=\"center\">\n",
    "<img src=\"../../data/tgho_barker.jpeg\" width=\"500\"><BR>\n",
    "Photo credit: Simon Barker\n",
    "</P>"
   ]
  },
  {
   "cell_type": "markdown",
   "id": "7fe367eb",
   "metadata": {},
   "source": [
    "### Data Summary\n",
    "\n",
    "Station tgho is operated by GNS in new zeland and the site site is located \n",
    "on a platform in Lake Taupo, new zealand. It records standard GPS and Glonass signals at a low sample rate of 30 sec.\n",
    "\n",
    "### Imports"
   ]
  },
  {
   "cell_type": "code",
   "execution_count": null,
   "id": "05ff6017",
   "metadata": {},
   "outputs": [],
   "source": [
    "import os\n",
    "import sys\n",
    "import re\n",
    "import json\n",
    "import pandas as pd \n",
    "import numpy as np\n",
    "import seaborn as sns; sns.set_theme(style=\"whitegrid\");\n",
    "import matplotlib.pyplot as plt\n",
    "\n",
    "# import gnssrefl functions\n",
    "from gnssrefl.rinex2snr_cl import rinex2snr \n",
    "from gnssrefl.quickLook_cl import quicklook\n",
    "from gnssrefl.make_json_input import make_json\n",
    "from gnssrefl.gnssir_cl import gnssir\n",
    "from gnssrefl.daily_avg_cl import daily_avg\n",
    "from gnssrefl.subdaily_cl import subdaily\n",
    "\n",
    "# We are including our repository bin to the system path so that we can import the following python modules\n",
    "bin_path = os.path.abspath(os.path.join('../../bin'))\n",
    "if bin_path not in sys.path:\n",
    "    sys.path.append(bin_path)\n",
    "    \n",
    "import gnssrefl_helpers\n",
    "\n",
    "%matplotlib inline"
   ]
  },
  {
   "cell_type": "code",
   "execution_count": null,
   "id": "003b4f79",
   "metadata": {},
   "outputs": [],
   "source": [
    "#Making sure environment variables are set - this is required to run the gnssrefl code\n",
    "exists = gnssrefl_helpers.check_environment()\n",
    "if exists == False:\n",
    "    gnssrefl_helpers.set_environment()\n",
    "        \n",
    "refl_code_loc = os.environ['REFL_CODE']\n",
    "# import the crx2rnx file which is dependant on your working OS - this is required to run the gnssrefl code\n",
    "try:\n",
    "    os.environ['DOCKER']\n",
    "except KeyError:\n",
    "    gnssrefl_helpers.download_crx2rnx()"
   ]
  },
  {
   "cell_type": "code",
   "execution_count": null,
   "id": "0a9d539f",
   "metadata": {},
   "outputs": [],
   "source": [
    "# This is only for these use cases - you can set pltscreen=True in quicklook to print these plots as well\n",
    "def pretty_plots(station, values, frequency,metrics=None):\n",
    "    # plotting the quicklook graph periodograms\n",
    "    fig, axes = plt.subplots(ncols=2, nrows=2, figsize=(12,10), sharex=True)\n",
    "    fig.suptitle(f'QuickLook: {station},{frequency}', size=16)\n",
    "\n",
    "    quadrants = ['NW', 'NE', 'SW', 'SE']\n",
    "    quadrant_labels = ['Northwest','Northeast', 'Southwest', 'Southeast']\n",
    "\n",
    "    for i, ax in enumerate(axes.flat):\n",
    "        quad = quadrants[i]\n",
    "        for fail_satellite in values[f'f{quad}']:\n",
    "            g = sns.lineplot(x=values[f'f{quad}'][fail_satellite][0],\n",
    "                             y=values[f'f{quad}'][fail_satellite][1],\n",
    "                             ax=ax, color='lightgrey')\n",
    "        for satellite in values[quad]:\n",
    "            g = sns.lineplot(x=values[quad][satellite][0],\n",
    "                             y=values[quad][satellite][1],\n",
    "                             ax=ax)\n",
    "        g.set_title(quadrant_labels[i])\n",
    "        g.set_ylabel('volts/volts')\n",
    "        g.set_xlabel('reflector height (m)')\n",
    "\n",
    "    if metrics:\n",
    "        success, fail = gnssrefl_helpers.quicklook_metrics(metrics)\n",
    "        fig, axes = plt.subplots(ncols=1, nrows=3, figsize=(10,10), sharex=True)\n",
    "        fig.suptitle(f'QuickLook Retrieval Metrics: {station}, {frequency}', size=16)\n",
    "\n",
    "        for i, ax in enumerate(axes):\n",
    "            g = sns.scatterplot(x='Azimuth',y=success.columns[i+1], data=success, ax=ax, label='good')\n",
    "            g = sns.scatterplot(x='Azimuth',y=fail.columns[i+1], data=fail, ax=ax, color='lightgrey', label='bad')\n",
    "\n",
    "        axes[0].legend(loc='upper right')\n",
    "\n",
    "        avg_rh = np.mean(success['Reflector Height'])\n",
    "        print(f'Average reflector height value: {avg_rh:.1f}')\n",
    "\n",
    "    plt.tight_layout()\n",
    "    plt.show()"
   ]
  },
  {
   "cell_type": "markdown",
   "id": "49a6eee2",
   "metadata": {},
   "source": [
    "### Take a Quick Look at the Data\n",
    "\n",
    "We will begin like always by making an **SNR** file. Here we will use both GPS and Glonass and we'll set the archive to nz"
   ]
  },
  {
   "cell_type": "code",
   "execution_count": null,
   "id": "87173e3c",
   "metadata": {},
   "outputs": [],
   "source": [
    "station = 'tgho'\n",
    "# picking a year and day of year\n",
    "year=2020\n",
    "doy=300\n",
    "\n",
    "lat = -38.8130\n",
    "long = 175.9960\n",
    "height = 385.990\n",
    "\n",
    "\n",
    "rinex2snr(station=station, year=year, doy=doy, orb='gnss', archive='nz')\n",
    "\n",
    "values, metrics = quicklook(station, year, doy=doy, pltscreen=False)\n",
    "pretty_plots(station, values, 'GPS L1', metrics)"
   ]
  },
  {
   "cell_type": "markdown",
   "id": "853cf7af",
   "metadata": {},
   "source": [
    " Using the default elevation angles is likely combining water and pier reflections so we will try restricting the close reflections (from the pier) by using a larger lower bound. Let's compare the defaults with 5-15 degrees elevation angles instead of 5-25 to see if this improves the retrievals."
   ]
  },
  {
   "cell_type": "code",
   "execution_count": null,
   "id": "0eb97d43",
   "metadata": {},
   "outputs": [],
   "source": [
    "values, metrics = quicklook(station, year, doy=doy, e2=15, pltscreen=False)\n",
    "\n",
    "pretty_plots(station, values, 'GPS L1', metrics)"
   ]
  },
  {
   "cell_type": "markdown",
   "id": "870a1ce4",
   "metadata": {},
   "source": [
    "This does look better. It's possible that the clutter near the monument produces noise at the smaller RH values. A better result can be found if those values are eliminated by setting heights from 2 through 8."
   ]
  },
  {
   "cell_type": "code",
   "execution_count": null,
   "id": "44dfe1fd",
   "metadata": {},
   "outputs": [],
   "source": [
    "values, metrics = quicklook(station, year, doy=doy, e1=5, e2=15, h1=2, h2=8, pltscreen=False)\n",
    "pretty_plots(station, values, 'GPS L1')"
   ]
  },
  {
   "cell_type": "markdown",
   "id": "89c3e2fb",
   "metadata": {},
   "source": [
    "We'll keep in mind from the qc plots here that we'll probably choose our amplitude to be ~9 and our peak to noise ratio to 3.\n",
    "\n",
    "Now let's try looking at the periodograms for L2:"
   ]
  },
  {
   "cell_type": "code",
   "execution_count": null,
   "id": "a64d33d6",
   "metadata": {},
   "outputs": [],
   "source": [
    "values, metrics = quicklook(station, year, doy=doy, e1=5, e2=15, h1=2, h2=8, f=2, pltscreen=False)\n",
    "pretty_plots(station, values, 'GPS L2')"
   ]
  },
  {
   "cell_type": "markdown",
   "id": "cc20ec0d",
   "metadata": {},
   "source": [
    "This shows us that we will not use L2 data in the analysis.\n",
    "\n",
    "Next, we'll look at the Glonass frequencies:101 (L1) and 102 (L2)"
   ]
  },
  {
   "cell_type": "code",
   "execution_count": null,
   "id": "cb8830e0",
   "metadata": {
    "scrolled": false
   },
   "outputs": [],
   "source": [
    "values, metrics = quicklook(station, year, doy=doy, e1=5, e2=15, h1=2, h2=8, f=101, pltscreen=False)\n",
    "pretty_plots(station, values, 'GLONASS L1', metrics)\n",
    "\n",
    "values, metrics = quicklook(station, year, doy=doy, e1=5, e2=15, h1=2, h2=8, f=102, pltscreen=False)\n",
    "pretty_plots(station, values, 'GLONASS L2')"
   ]
  },
  {
   "cell_type": "markdown",
   "id": "4bdffe22",
   "metadata": {},
   "source": [
    "We're going exclude 135-225 degrees in azimuth as there is an empty region as well as a few poor retreivals."
   ]
  },
  {
   "cell_type": "markdown",
   "id": "e83562b2",
   "metadata": {},
   "source": [
    "A windy day could cause bad retrievals.  For days with no wind, we would have large amplitudes - and for very windy days it could look like this:"
   ]
  },
  {
   "cell_type": "code",
   "execution_count": null,
   "id": "f6eb0bf6",
   "metadata": {},
   "outputs": [],
   "source": [
    "#station = 'tgho'\n",
    "# picking a year and day of year\n",
    "year=2020\n",
    "doy=273 #sep 29\n",
    "\n",
    "rinex2snr(station=station, year=year, doy=doy, archive='nz')\n",
    "\n",
    "values, metrics = quicklook(station, year=year, doy=doy, e1=5, e2=15, h1=2, h2=8, pltscreen=False)\n",
    "pretty_plots(station, values, 'GPS L1', metrics)"
   ]
  },
  {
   "cell_type": "markdown",
   "id": "96edef3f",
   "metadata": {},
   "source": [
    "### Analyze the Data\n",
    "Here we'll set the values we discussed as variables and will pass them into the make json function."
   ]
  },
  {
   "cell_type": "code",
   "execution_count": null,
   "id": "cfc6783a",
   "metadata": {},
   "outputs": [],
   "source": [
    "min_elevation_angle = 5\n",
    "max_elevation_angle = 15\n",
    "peak_to_noise = 3\n",
    "amplitude = 9\n",
    "min_height = 2\n",
    "max_height = 8\n",
    "make_json(station, lat, long, height, e1=min_elevation_angle, e2=max_elevation_angle,\n",
    "                       peak2noise=peak_to_noise, ampl=amplitude, h1=min_height, h2=max_height)\n",
    "\n",
    "# This is the json file that was created with the defaults/parameters you set above\n",
    "json_file = f'{refl_code_loc}/input/{station}.json'\n",
    "with open(json_file, \"r\") as myfile:\n",
    "    file = json.load(myfile)\n",
    "    \n",
    "file"
   ]
  },
  {
   "cell_type": "markdown",
   "id": "49b1e5ac",
   "metadata": {},
   "source": [
    "The azimuth mask has to be set by hand again, and we will add the glonass signals (frequencies 101 and 102), and remove GPS L2 and L5 signals."
   ]
  },
  {
   "cell_type": "code",
   "execution_count": null,
   "id": "4301c4ab",
   "metadata": {},
   "outputs": [],
   "source": [
    "# Now lets edit the json file\n",
    "with open(json_file, \"r\") as myfile:\n",
    "    file = json.load(myfile)\n",
    "    \n",
    "# Here is where we can 'hand edit' values in the json file\n",
    "# lets edit the azimuths. We set these values by looking at the metrics qc plot above\n",
    "file['azval'] = [0,90,90,135,225,270,270,360]\n",
    "file['freqs'] = [1, 101, 102]\n",
    "os.remove(json_file)\n",
    "\n",
    "with open(json_file, 'w') as f:\n",
    "    json.dump(file, f, indent=4)\n",
    "    \n",
    "# now lets view it again and note the difference\n",
    "with open(json_file, \"r\") as myfile:\n",
    "    file = json.load(myfile)\n",
    "\n",
    "file"
   ]
  },
  {
   "cell_type": "markdown",
   "id": "a24bac08",
   "metadata": {},
   "source": [
    "Now we would run rinex2snr for about six months in 2020 and then run gnssir for the same dates."
   ]
  },
  {
   "cell_type": "code",
   "execution_count": null,
   "id": "2bad368c",
   "metadata": {},
   "outputs": [],
   "source": [
    "# get snr (let's use GFZ orbits, which is multi-GNSS setting orb='gnss')\n",
    "rinex2snr(station, year, doy=130, doy_end=319, orb='gnss', archive='nz')"
   ]
  },
  {
   "cell_type": "markdown",
   "id": "08752fb0",
   "metadata": {},
   "source": [
    "Now run gnssir:"
   ]
  },
  {
   "cell_type": "code",
   "execution_count": null,
   "id": "616145f0",
   "metadata": {},
   "outputs": [],
   "source": [
    "gnssir(station, year, doy=130, doy_end=319)"
   ]
  },
  {
   "cell_type": "markdown",
   "id": "274eb2be",
   "metadata": {},
   "source": [
    "To look at daily averages, use the utility <code>daily_avg</code>. The median filter is set to allow values within 0.25 meters of the \n",
    "median, and the minimum number of tracks required to calculate the average we will set to 50 tracks. We can also set our own name for the daily average file."
   ]
  },
  {
   "cell_type": "code",
   "execution_count": null,
   "id": "a063dc4a",
   "metadata": {},
   "outputs": [],
   "source": [
    "daily_avg(station, medfilter=.25, ReqTracks=50, plt2screen=False,\n",
    "                       txtfile=f'{station}-dailyavg.txt')"
   ]
  },
  {
   "cell_type": "markdown",
   "id": "b3a8856f",
   "metadata": {},
   "source": [
    "Now we can plot all of the reflector heights:"
   ]
  },
  {
   "cell_type": "code",
   "execution_count": null,
   "id": "3d3121f6",
   "metadata": {},
   "outputs": [],
   "source": [
    "filepath = f'{refl_code_loc}/Files/{station}_allRH.txt'\n",
    "data = gnssrefl_helpers.read_rh_files(filepath)\n",
    "\n",
    "df = pd.DataFrame(data, index=None, columns=['dates', 'rh'])\n",
    "plt.figure(figsize=(10,8))\n",
    "g = sns.scatterplot(x='dates', y='rh', data=df, hue='dates', palette='colorblind', legend=False)\n",
    "g.set_ylim(4.8,3.3)\n",
    "g.set_ylabel('Reflector Height (m)');"
   ]
  },
  {
   "cell_type": "code",
   "execution_count": null,
   "id": "207f95ff",
   "metadata": {},
   "outputs": [],
   "source": [
    "plt.figure(figsize=(8,8))\n",
    "df_group = df.groupby(['dates']).agg(['count'])\n",
    "g = sns.scatterplot(data=df_group)\n",
    "g.set_title('Number of values used in the daily average', size=16);"
   ]
  },
  {
   "cell_type": "markdown",
   "id": "1bae61ed",
   "metadata": {},
   "source": [
    "Finally, the daily average RH plot:"
   ]
  },
  {
   "cell_type": "code",
   "execution_count": null,
   "id": "893ed866",
   "metadata": {},
   "outputs": [],
   "source": [
    "filepath = f'{refl_code_loc}/Files/{station}-dailyavg.txt'\n",
    "data = gnssrefl_helpers.read_rh_files(filepath)\n",
    "df = pd.DataFrame(data, index=None, columns=['dates', 'rh'])\n",
    "\n",
    "plt.figure(figsize=(10,8))\n",
    "g = sns.scatterplot(x='dates', y='rh', data=df, legend=False)\n",
    "g.set_ylim(4.5,3.5)\n",
    "g.set_ylabel('Reflector Height (m)');"
   ]
  },
  {
   "cell_type": "markdown",
   "id": "f6e9ad3e",
   "metadata": {},
   "source": [
    "and now we can see the reflector heights for these 6 months in 2020.\n",
    "\n",
    "We'll note that there are quite a few data outages in this series, which means the RINEX files were missing from the NZ archive.\n",
    "\n",
    "Although Taupo is in a volcanic caldera, lake levels are determined by seasonal processes such \n",
    "as evaporation, precipitation, input from local drainages, and outflow. The Waikoto \n",
    "River is sole river draining the lake, and river flow is regulated by a series of hydroelectric dams."
   ]
  },
  {
   "cell_type": "code",
   "execution_count": null,
   "id": "5c503c7e",
   "metadata": {},
   "outputs": [],
   "source": []
  }
 ],
 "metadata": {
  "kernelspec": {
   "display_name": "gnssrefl_jupyter",
   "language": "python",
   "name": "gnssrefl_jupyter"
  },
  "language_info": {
   "codemirror_mode": {
    "name": "ipython",
    "version": 3
   },
   "file_extension": ".py",
   "mimetype": "text/x-python",
   "name": "python",
   "nbconvert_exporter": "python",
   "pygments_lexer": "ipython3",
   "version": "3.9.8"
  }
 },
 "nbformat": 4,
 "nbformat_minor": 5
}
