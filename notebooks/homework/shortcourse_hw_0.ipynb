{
 "cells": [
  {
   "cell_type": "markdown",
   "id": "78adcfaa",
   "metadata": {},
   "source": [
    "# [2021 gnssrefl short course](https://www.unavco.org/event/2021-gnss-interferometric-reflectometry/)\n",
    "\n",
    "---\n",
    "\n",
    "## Homework 0\n",
    "**Due date:** This homework is to be completed **before** the short course given on October 21. You need to make\n",
    "sure the software has been properly installed and you have successfully completed the \"homework 0\" assignment.\n",
    "\n",
    "**Purpose:** To test if environment and code is ready for gnssrefl processing"
   ]
  },
  {
   "cell_type": "markdown",
   "id": "ff12e59e",
   "metadata": {},
   "source": [
    "*NOTE*: if you plan to use this jupyter notebook then please follow the instructions [here](https://www.unavco.org/gitlab/gnss_reflectometry/gnssrefl_jupyter) for running the notebook in a docker container OR running locally.\n",
    "\n",
    "\n",
    "*TIP:* When running cells in jupyter notebook,the In[*] on the top left means that the cell is currently running.\n",
    "\n",
    "### Step 1: Check that we can import gnssrefl and other required imports\n",
    "\n",
    "* If you are running the docker image, then the gnssrefl code and other required imports should be installed and the following cell should import it's functions with no issues. \n",
    "\n",
    "* If you are running this notebook locally, then make sure that in your terminal, you run `pip install -r requirements.txt` in the main directory of this repository where the requirements.txt file is stored.\n",
    "\n",
    "Now run the following cell:"
   ]
  },
  {
   "cell_type": "code",
   "execution_count": null,
   "id": "4458d0d1",
   "metadata": {},
   "outputs": [],
   "source": [
    "# all of these imports should be installed \n",
    "# and no errors will return when the cell is run\n",
    "# If there are no errors then you are all set to move forward\n",
    "\n",
    "import os\n",
    "import sys\n",
    "import re\n",
    "import json\n",
    "import pandas as pd \n",
    "import numpy as np\n",
    "import seaborn as sns; sns.set_theme(style=\"whitegrid\");\n",
    "\n",
    "# import gnssrefl functions\n",
    "import gnssrefl.rinex2snr\n",
    "import gnssrefl.quickLook_function\n",
    "import gnssrefl.gnssir\n",
    "import matplotlib.pyplot as plt\n",
    "\n",
    "\n",
    "%matplotlib inline"
   ]
  },
  {
   "cell_type": "markdown",
   "id": "6973efcf",
   "metadata": {},
   "source": [
    "The following cell is necessary to import python modules from the repository. These python modules are stored in the 'bin' folder. If this notebook has been placed somewhere other than the location where it started in the repository, then you can manually change the path below to where the bin has been placed. Otherwise, it should be in the previous directory from this notebook.\n",
    "\n",
    "If the following cell does not throw any errors then we can move forward."
   ]
  },
  {
   "cell_type": "code",
   "execution_count": null,
   "id": "2b523195",
   "metadata": {},
   "outputs": [],
   "source": [
    "# We are including our repository bin to the system path so that we can import the following python modules\n",
    "path = '../../bin'\n",
    "bin_path = os.path.abspath(os.path.join(path))\n",
    "if bin_path not in sys.path:\n",
    "    sys.path.append(bin_path)\n",
    "    \n",
    "import check_parameters \n",
    "import environment"
   ]
  },
  {
   "cell_type": "markdown",
   "id": "8da25ae8",
   "metadata": {},
   "source": [
    "### Step 2. Set the environmnet variables\n",
    "\n",
    "This next cell will set your environment variables. If they are not already set (done previously or via docker) - then they will be set for you - assuming the directory structure has not changed from the repository. There are three required environment variables:\n",
    "\n",
    "* EXE - where various RINEX executables will live.\n",
    "\n",
    "* ORBITS - where the GPS/GNSS orbits will be stored. They will be listed under directories by year and sp3 or nav depending on the orbit format.\n",
    "\n",
    "* REFL_CODE - where the reflection code inputs (SNR files and instructions) and outputs (RH) will be stored (see below). Both SNR files and results will be saved here in year subdirectories.\n",
    "\n",
    "If you are running the docker container then the environment variables should look like\n",
    "* ORBITS = /home/jovyan/gnssir_jupyter/orbits\n",
    "* EXE = /home/jovyan/gnssir_jupyter/bin/exe\n",
    "* REFL_CODE = ORBITS = /home/jovyan/gnssir_jupyter\n",
    "\n",
    "\n",
    "You can also define parameters orbits=, exe=, refl_code= with environment.set_environment() to manually set the locations for these environment variables. \n",
    "\n",
    "Once you run the following cell, it will print out the locations that these environment variables are set to. If these locations are satisfactory then we can move forward."
   ]
  },
  {
   "cell_type": "code",
   "execution_count": null,
   "id": "1f88ea6d",
   "metadata": {},
   "outputs": [],
   "source": [
    "#Making sure environment variables are set - this is required to run the gnssrefl code\n",
    "exists = environment.check_environment()\n",
    "\n",
    "# if the environment variables are not set already then the exists variable will return as False.\n",
    "if exists == False:\n",
    "    environment.set_environment()\n",
    "else:\n",
    "     print('environment variable ORBITS path is', os.environ['ORBITS'],\n",
    "          '\\nenvironment variable REFL_CODE path is', os.environ['REFL_CODE'],\n",
    "          '\\nenvironment variable EXE path is', os.environ['EXE'])"
   ]
  },
  {
   "cell_type": "markdown",
   "id": "8d5bd2a9",
   "metadata": {},
   "source": [
    "### Step 3. Download and check EXE dependencies are present:\n",
    "\n",
    "use environment.download_crx2rnx to import the crx2rnx file(Required translator for compressed (Hatanaka) RINEX files) which is dependant on your working OS - this is required to run the gnssrefl code.\n",
    "\n",
    "If this does not properly find your running os, then it will print out an error and instruct you how to add a parameter to manually set which os you are using.\n",
    "\n",
    "Note that this function relies on your environment variables to be properly set."
   ]
  },
  {
   "cell_type": "code",
   "execution_count": null,
   "id": "7a87b4e1",
   "metadata": {},
   "outputs": [],
   "source": [
    "# import the crx2rnx file which is dependant on your working OS - this is required to run the gnssrefl code\n",
    "environment.download_crx2rnx()\n",
    "\n",
    "print('files in exe folder:', os.listdir(os.environ['EXE']))"
   ]
  },
  {
   "cell_type": "markdown",
   "id": "90d27a33",
   "metadata": {},
   "source": [
    "If you see 'CRX2RNX' and 'gfzrnx' in your EXE folder then you are all set. \n",
    "\n",
    "**Note*** that the gfzrnx file was in the exe when you pulled the repository - it currently is set for a linux environment and can only be used with the docker version of the jupyter notebooks or if you are running linux. The gfzrnx file is not required to run the code - but is needed if you want to work with RINEX3 files. If you need to download the correct version for your os then download from [here](http://dx.doi.org/10.5880/GFZ.1.1.2016.002) and then place it in your exe folder."
   ]
  },
  {
   "cell_type": "markdown",
   "id": "c1840fe5",
   "metadata": {},
   "source": [
    "### Step 4. Run a quick Analysis"
   ]
  },
  {
   "cell_type": "markdown",
   "id": "b10b786f",
   "metadata": {},
   "source": [
    "#### a. simple use case that requires CRX2RNX and broadcast orbits:"
   ]
  },
  {
   "cell_type": "code",
   "execution_count": null,
   "id": "46681bb5",
   "metadata": {},
   "outputs": [],
   "source": [
    "station = 'p042'\n",
    "year = 2018 \n",
    "doy = 150"
   ]
  },
  {
   "cell_type": "code",
   "execution_count": null,
   "id": "2761900b",
   "metadata": {},
   "outputs": [],
   "source": [
    "# To understand what rinex2snr returns, you can uncomment the next line of code to learn more about this function \n",
    "# and it's available and default parameters\n",
    "# check_parameters.rinex2snr?\n",
    "args = check_parameters.rinex2snr(station, year, doy)\n",
    "gnssrefl.rinex2snr.run_rinex2snr(**args)"
   ]
  },
  {
   "cell_type": "markdown",
   "id": "46d19557",
   "metadata": {},
   "source": [
    "you've successfully run the rinex2snr program that:\n",
    "* downloaded and uncompressed [hatanaka](https://www.unavco.org/data/gps-gnss/hatanaka/hatanaka.html) rinex for a single station (p042) for a single day (doy 150 in 2018)\n",
    "* downloaded GPS broadcast orbits\n",
    "* calculated azimuth and elevation for each satellite at each epoch given these orbits\n",
    "* wrote this az/el, signal, time and CN0 information to a formatted snr output file\n",
    "for future analysis.\n",
    "Reminder, the .66 file name suffix refers to the\n",
    "[elevation masking options](https://github.com/kristinemlarson/gnssrefl#iv-rinex2snr---extracting-snr-data-from-rinex-files-)."
   ]
  },
  {
   "cell_type": "markdown",
   "id": "7a4f5f88",
   "metadata": {},
   "source": [
    "#### b. simple use case that requires CRX2RNX and SP3 orbits:"
   ]
  },
  {
   "cell_type": "code",
   "execution_count": null,
   "id": "f0cf44ff",
   "metadata": {},
   "outputs": [],
   "source": [
    "args = check_parameters.rinex2snr(station, year, doy=150, orb='gnss')\n",
    "gnssrefl.rinex2snr.run_rinex2snr(**args)"
   ]
  },
  {
   "cell_type": "markdown",
   "id": "af3eeed4",
   "metadata": {},
   "source": [
    "Note* If you get:\n",
    "*SNR file exists...*\\\n",
    "This is because the logic of gnssrefl checks for an snr file prior to processing - and we already processed this day earlier.\n",
    "Remember this fact if you ever want to **re**-process with different orbits!\n",
    "You can us os.remove to remove a file if you want to reprocess."
   ]
  },
  {
   "cell_type": "code",
   "execution_count": null,
   "id": "23e00428",
   "metadata": {},
   "outputs": [],
   "source": [
    "# take the path from the path printed out above with the 'SNR file exists' output and set the variable path.\n",
    "# The path will be REFL_CODE/2018/snr/p042/p0421500.18.snr66\n",
    "path = 'path_goes/here'\n",
    "os.remove(path)"
   ]
  },
  {
   "cell_type": "markdown",
   "id": "1e4675cf",
   "metadata": {},
   "source": [
    "Now lets try that again."
   ]
  },
  {
   "cell_type": "code",
   "execution_count": null,
   "id": "d871346d",
   "metadata": {},
   "outputs": [],
   "source": [
    "args = check_parameters.rinex2snr(station, year, doy=150, orb='gnss')\n",
    "gnssrefl.rinex2snr.run_rinex2snr(**args)"
   ]
  },
  {
   "cell_type": "markdown",
   "id": "adb16788",
   "metadata": {},
   "source": [
    "If you get:\n",
    "SUCCESS: SNR file was created: ...\n",
    "you've successfully:\n",
    "\n",
    "* downloaded and uncompressed hatanaka rinex for a single station (p042) for a single day (doy 150 in 2018)\n",
    "* downloaded SP3 format GNSS orbits from the GFZ archive\n",
    "* calculated azimuth and elevation for each satellite at each epoch\n",
    "* wrote this az/el, signal, time and CN0 information to a formatted snr output file for future analysis."
   ]
  },
  {
   "cell_type": "markdown",
   "id": "2016cf18",
   "metadata": {},
   "source": [
    "#### c. (OPTIONAL - requires the gfzrnx executable mentioned previously ) RINEX 3 simple use case that requires gfzrnx"
   ]
  },
  {
   "cell_type": "markdown",
   "id": "c5c8b226",
   "metadata": {},
   "source": [
    "**If** you are interested in using RINEX version 3 data, please run this test:"
   ]
  },
  {
   "cell_type": "code",
   "execution_count": null,
   "id": "cc55cb55",
   "metadata": {},
   "outputs": [],
   "source": [
    "args = check_parameters.rinex2snr(station='onsa00swe', year=2020, doy=1, archive='cddis', orb='gnss')\n",
    "gnssrefl.rinex2snr.run_rinex2snr(**args)"
   ]
  },
  {
   "cell_type": "markdown",
   "id": "5e561106",
   "metadata": {},
   "source": [
    "If you get:\n",
    "*SUCCESS: SNR file was created: ...* \\\n",
    "you've successfully:\n",
    "* downloaded and uncompressed rinex 3 for a single station (onsa)\n",
    "for a single day (doy 1 in 2020) from the cddis archive\n",
    "* converted rinex 3 to rinex 2 using gfzrnx executable\n",
    "* downloaded SP3 format GNSS orbits from the GFZ archive\n",
    "* calculated azimuth and elevation for each satellite at each epoch\n",
    "* wrote this az/el, signal, time and CN0 information to a formatted\n",
    "snr output file for future analysis."
   ]
  },
  {
   "cell_type": "code",
   "execution_count": null,
   "id": "d5e281c9",
   "metadata": {},
   "outputs": [],
   "source": []
  }
 ],
 "metadata": {
  "kernelspec": {
   "display_name": "gnssrefl_jupyter",
   "language": "python",
   "name": "gnssrefl_jupyter"
  },
  "language_info": {
   "codemirror_mode": {
    "name": "ipython",
    "version": 3
   },
   "file_extension": ".py",
   "mimetype": "text/x-python",
   "name": "python",
   "nbconvert_exporter": "python",
   "pygments_lexer": "ipython3",
   "version": "3.9.0"
  }
 },
 "nbformat": 4,
 "nbformat_minor": 5
}
