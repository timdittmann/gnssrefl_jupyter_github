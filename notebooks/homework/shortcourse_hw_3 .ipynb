{
 "cells": [
  {
   "cell_type": "markdown",
   "id": "7fb3badb",
   "metadata": {},
   "source": [
    "# [2021 gnssrefl short course](https://www.unavco.org/event/2021-gnss-interferometric-reflectometry/)\n",
    "\n",
    "---\n",
    "\n",
    "## Homework 3\n",
    "\n",
    "**Due date:** This homework is to be completed **before** the short course given on October 21. You need to make\n",
    "sure the software has been properly installed and you have successfully completed the \"homework 0\" assignment.\n",
    "\n",
    "**Purpose:** Learn how to measure water level with gnssrefl using GNSS data "
   ]
  },
  {
   "cell_type": "code",
   "execution_count": null,
   "id": "4458d0d1",
   "metadata": {},
   "outputs": [],
   "source": [
    "import os\n",
    "import sys\n",
    "import re\n",
    "import json\n",
    "import pandas as pd \n",
    "import numpy as np\n",
    "import seaborn as sns; sns.set_theme(style=\"whitegrid\");\n",
    "import matplotlib.pyplot as plt\n",
    "\n",
    "# We are including our repository bin to the system path so that we can import the following python modules\n",
    "bin_path = os.path.abspath(os.path.join('../../bin'))\n",
    "if bin_path not in sys.path:\n",
    "    sys.path.append(bin_path)\n",
    "    \n",
    "import run_gnssrefl \n",
    "import gnssrefl_helpers\n",
    "\n",
    "%matplotlib inline"
   ]
  },
  {
   "cell_type": "code",
   "execution_count": null,
   "id": "1f88ea6d",
   "metadata": {},
   "outputs": [],
   "source": [
    "#Making sure environment variables are set - this is required to run the gnssrefl code\n",
    "exists = gnssrefl_helpers.check_environment()\n",
    "if exists == False:\n",
    "    gnssrefl_helpers.set_environment()\n",
    "else:\n",
    "     print('environment variable ORBITS path is', os.environ['ORBITS'],\n",
    "          '\\nenvironment variable REFL_CODE path is', os.environ['REFL_CODE'],\n",
    "          '\\nenvironment variable EXE path is', os.environ['EXE'])\n",
    "        \n",
    "refl_code_loc = os.environ['REFL_CODE']\n",
    "# import the crx2rnx file which is dependant on your working OS - this is required to run the gnssrefl code\n",
    "gnssrefl_helpers.download_crx2rnx()"
   ]
  },
  {
   "cell_type": "markdown",
   "id": "c6a079b5",
   "metadata": {},
   "source": [
    "**Station:**\n",
    "We will be using station **ross**. It is operated by [NRCAN](https://www.nrcan.gc.ca). \n",
    "This [map](https://webapp.geod.nrcan.gc.ca/geod/data-donnees/cacs-scca.php?locale=en)\n",
    "gives you an overview of GNSS stations operated by NRCAN. Use the plus sign on the map \n",
    "to look more closely at Lake Superior. Find **ross** and click on it (station M023004). \n",
    "If you scroll down, you will see a photo of the monument. \n",
    "\n",
    "NRCAN is operating what I would call a \"legacy\" GNSS instrument. This means it only tracks the original GPS signals that were designed in the 1970s. This means none of the enhanced GPS signals (L2C and L5) available since 2005 are provided. Furthermore, there are no signals from Glonass, Galileo, or Beidou. The bottom line is that you will be using only the L1 GPS signal, which leaves you with ~15% of what would be available from a modern multi-GNSS unit. The sample rate - 30 seconds - limits what kind of reflectometry you can do. For the purposes of this homework, it restricts the RH to values less than ~10 meters."
   ]
  },
  {
   "cell_type": "markdown",
   "id": "5700feb1",
   "metadata": {},
   "source": [
    "**Azimuth/Elevation Mask**\n",
    "\n",
    "Next, let's get an idea of what this site looks like from a reflections viewpoint. \n",
    "\n",
    "Run the cell below (starts with %%html) to view the gnss-reflections webapp.\n",
    "Use the geoid tab in the webapp to\n",
    "get an idea of its surroundings. You can enter the station coordinates by hand if you know them, \n",
    "but since **ross** is part of a public archive known to geodesists, coordinates have been stored in the webapp.\n",
    "Just type in **ross** for the station name. Make a note of the station \n",
    "latitude, longitude, and ellipsoidal height that is returned by the \n",
    "webapp because you will need it later. Although the elevation above sea level of \n",
    "the site is ~186 meters, from the photo you know already this is not the value \n",
    "we will want to use for our reflections study. We will start with our common \n",
    "sense, look at the data, and iterate if necessary."
   ]
  },
  {
   "cell_type": "code",
   "execution_count": null,
   "id": "5a0d3f0e",
   "metadata": {},
   "outputs": [],
   "source": [
    "# save the variable for the station name since it will be used for the rest of the notebook\n",
    "station = 'ross'\n",
    "\n",
    "\n",
    "# fill in the values for these variables from the output of the web app below\n",
    "lat = \n",
    "long = \n",
    "height = "
   ]
  },
  {
   "cell_type": "code",
   "execution_count": null,
   "id": "f1e07014",
   "metadata": {},
   "outputs": [],
   "source": [
    "%%html\n",
    "<iframe src=\"https://gnss-reflections.org/geoid\" width=\"1000\" height=\"600\"></iframe>"
   ]
  },
  {
   "cell_type": "markdown",
   "id": "c1840fe5",
   "metadata": {},
   "source": [
    "Use the [reflection zone section of the web app](https://gnss-reflections.org/rzones) in the cell below to get an idea\n",
    "of what reflection zones are possible for this site. We cannot use the default sea level reflection \n",
    "value, so you need to set a Reflector Height (RH) value. Based on the photograph, try values that\n",
    "you think are reasonable. You don't want your reflection zones to cross \n",
    "a dock or the nearby boats, so you should also rerun it with different azimuth limits. Don't worry about it too much as we will get feedback from the actual GPS data.\n",
    "\n",
    "Make a note of:\n",
    "\n",
    "<UL>\n",
    "<LI>RH\n",
    "<LI>elevation angle values that give water coverage without interference from docks/boats\n",
    "<LI>azimuth angle values that cover open water without interference\n",
    "<LI>the DECIMAL latitude, longitude, and height (from the geoid webapp).\n",
    "<LI>we can only use L1 GPS data at this site \n",
    "<LI>We can't estimate RH larger than 10 meters because of the sampling rate\n",
    "</UL>"
   ]
  },
  {
   "cell_type": "code",
   "execution_count": null,
   "id": "9f367988",
   "metadata": {},
   "outputs": [],
   "source": [
    "%%html\n",
    "<iframe src=\"https://gnss-reflections.org/rzones\" width=\"800\" height=\"800\"></iframe>"
   ]
  },
  {
   "cell_type": "markdown",
   "id": "6567c858",
   "metadata": {},
   "source": [
    "**Using gnssrefl**\n",
    "\n",
    "Now let's look at the **ross** data. We need to pick up a RINEX file and strip out the \n",
    "SNR data.  We use the <code>rinex2snr</code> for this purpose.  Use -h if you want to \n",
    "see the options for this module. We will throw caution to the winds and see if the defaults will work. \n",
    "The only required inputs are the station name (ross), the year (2020) and day of year (150) \n",
    "(note: to convert from year and day of year to year, \n",
    "month, day and vice versa, try the modules <code>ydoy</code> and \n",
    "<code>ymd</code>). \n",
    "\n",
    "By default <code>rinex2snr</code> tries to find the RINEX data for you by looking at a few \n",
    "key archives.  However, if you know where the data are, it will be faster to specify it.\n",
    "In this case they are available from both sopac and nrcan. Try the <code>archive</code> option.\n",
    "\n",
    "In the Jupyter notebook version, all parameters will get passed into the corresponding function (rinex2snr in this case) using the check_parameters module. This will then return the correct and expected arguments to pass into the gnssrefl rinex2snr function."
   ]
  },
  {
   "cell_type": "code",
   "execution_count": null,
   "id": "5cb9339a",
   "metadata": {},
   "outputs": [],
   "source": [
    "run_gnssrefl.rinex2snr?"
   ]
  },
  {
   "cell_type": "code",
   "execution_count": null,
   "id": "693e9af5",
   "metadata": {},
   "outputs": [],
   "source": [
    "year = \n",
    "doy = \n",
    "# if you would like to pick an archive then you can \n",
    "# archive = 'nrcan'\n",
    "# archive = 'sopac'\n",
    "\n",
    "# if you choose to use an archive then you must add the parameter archive example:\n",
    "# args = check_parameters.rinex2snr(station, year, doy, archive=archive)\n",
    "\n",
    "# otherwise, the only required parameters are station, year, and doy\n",
    "run_gnssrefl.rinex2snr(station, year, doy)"
   ]
  },
  {
   "cell_type": "markdown",
   "id": "1e8156bc",
   "metadata": {},
   "source": [
    "---\n",
    "Once you have successfully created a SNR file, run <code>quickLook</code>.\n",
    "\n",
    "The quicklook plots consist of two graphical representations of the data. The first is \n",
    "periodograms for the four geographic quadrants (northwest, northeast, and so on). \n",
    "You are looking for nice clean (and colorful) peaks. Color means they have \n",
    "passed Quality Control (QC). Gray lines are satellite tracks that failed QC. The second plot summarizes the \n",
    "RH retrievals and how the QC metrics look compared to \n",
    "the defaults. In this case the x-axis is azimuth in degrees."
   ]
  },
  {
   "cell_type": "code",
   "execution_count": null,
   "id": "05cecc29",
   "metadata": {},
   "outputs": [],
   "source": [
    "# Plotting using pltscreen=True\n",
    "values, metrics = run_gnssrefl.quicklook(station, year, doy=doy, pltscreen=True)"
   ]
  },
  {
   "cell_type": "markdown",
   "id": "e3d314d4",
   "metadata": {},
   "source": [
    "From these plots, how does the correct *RH* value compare with the one you assumed earlier when you \n",
    "were trying out the webapp?  How about the azimuths?  Go back to the reflection zone webapp and \n",
    "make sure you are happy with your azimuth and elevation angle selections.\n",
    "\n",
    "Next we need to save our <code>gnssrefl</code> analysis strategy using \n",
    "<code>make_json_input</code>. At a minimum you need to know \n",
    "the latitude, longitude, and height for the station (we saved these as variables earlier so they can easily be accessed at this point). However, your analysis strategy can and should\n",
    "be improved by setting some parameters.\n",
    "\n",
    "*Hints:*\n",
    "\n",
    "* Check the documentation to see how to set the elevation angles and RH limits. You can run the following cell to see the parameters.\n",
    "\n",
    "* Since we can only use L1 data, you should use the <code>l1=True</code>.\n",
    "\n",
    "* You will need to hand edit the azimuths in the json file. You want to cut up your azimuth range in 60-90 degree chunks.  So if you wanted to use the region  for 90-270 degrees, you should say 90-180 and 180-270. You can use smaller chunks, but I generally do not use less than 45 degree azimuth chunks."
   ]
  },
  {
   "cell_type": "code",
   "execution_count": null,
   "id": "abce263d",
   "metadata": {},
   "outputs": [],
   "source": [
    "# run this cell to view the available parameters and current defaults\n",
    "run_gnssrefl.make_json?"
   ]
  },
  {
   "cell_type": "code",
   "execution_count": null,
   "id": "c4ae6026",
   "metadata": {},
   "outputs": [],
   "source": [
    "run_gnssrefl.make_json(station, lat, long, height, l1=True)"
   ]
  },
  {
   "cell_type": "code",
   "execution_count": null,
   "id": "5698b431",
   "metadata": {},
   "outputs": [],
   "source": [
    "# This is the json file that was created with the defaults + parameters you set above\n",
    "json_file = f'{refl_code_loc}/input/{station}.json'\n",
    "with open(json_file, \"r\") as myfile:\n",
    "    file = json.load(myfile)\n",
    "    \n",
    "file"
   ]
  },
  {
   "cell_type": "code",
   "execution_count": null,
   "id": "4ab6956d",
   "metadata": {},
   "outputs": [],
   "source": [
    "# Now lets edit the json file\n",
    "with open(json_file, \"r\") as myfile:\n",
    "    file = json.load(myfile)\n",
    "\n",
    "# Here is where we can 'hand edit' values in the json file\n",
    "# lets edit the azimuths\n",
    "file['azval'] = [90,180,180,270]\n",
    "\n",
    "with open(json_file, 'w') as f:\n",
    "    json.dump(file, f, indent=4)\n",
    "    \n",
    "# now lets view it again and note the difference\n",
    "with open(json_file, \"r\") as myfile:\n",
    "    file = json.load(myfile)\n",
    "\n",
    "file"
   ]
  },
  {
   "cell_type": "markdown",
   "id": "25a9889c",
   "metadata": {},
   "source": [
    "Now run <code>gnssir</code> for the year 2020/doy 150. \n",
    "This module is meant for *routine analysis* and thus there are not a lot\n",
    "of bells and whistles. However, it is good practice to see that something is actually \n",
    "created (the screen output will tell you where it is)."
   ]
  },
  {
   "cell_type": "code",
   "execution_count": null,
   "id": "cd32b652",
   "metadata": {},
   "outputs": [],
   "source": [
    "year = \n",
    "doy = \n",
    "run_gnssrefl.gnssir(station, year, doy, plt=True, screenstats=False)"
   ]
  },
  {
   "cell_type": "markdown",
   "id": "92d657bb",
   "metadata": {},
   "source": [
    "**Extra Credit:**\n",
    "\n",
    "The <code>gnssir</code> output tells you the vertical distance between the GPS antenna and \n",
    "the lake for each successful satellite track. That is not \n",
    "super exciting; it is a little more interesting to see if it changes over time, which means \n",
    "you need to analyze a bit more data. \n",
    "\n",
    "* use <code>rinex2snr</code> to make SNR files for the same year, but now do doy 120 through 290. You can use the <code>doy_end</code> parameter to do that. And use <code>weekly=True</code> to make fewer files (which will make everything much faster). Why did I pick those dates? Mostly to avoid snow (yeap, it snows up there!) "
   ]
  },
  {
   "cell_type": "code",
   "execution_count": null,
   "id": "bf99b6c4",
   "metadata": {},
   "outputs": [],
   "source": [
    "doy = \n",
    "doy_end = \n",
    "\n",
    "run_gnssrefl.rinex2snr(station,year,doy=doy, doy_end=doy_end, weekly=True)"
   ]
  },
  {
   "cell_type": "markdown",
   "id": "ac6f053e",
   "metadata": {},
   "source": [
    "* run <code>gnssir</code> for those dates. You do not need the weekly option here - you can just specify 120 through 290. It will look for every day, but if it doesn't find it, it just looks for the next day, etc."
   ]
  },
  {
   "cell_type": "code",
   "execution_count": null,
   "id": "5ad531e2",
   "metadata": {},
   "outputs": [],
   "source": [
    "# station, year, doy, and doy_end variables are already set.\n",
    "run_gnssrefl.gnssir(station, year, doy, doy_end=doy_end, screenstats=False)"
   ]
  },
  {
   "cell_type": "markdown",
   "id": "cb3d6e50",
   "metadata": {},
   "source": [
    "* You can now use the <code>daily_avg</code> to make a daily average for the lake level on each day you analyzed.  "
   ]
  },
  {
   "cell_type": "code",
   "execution_count": null,
   "id": "7465213f",
   "metadata": {},
   "outputs": [],
   "source": [
    "run_gnssrefl.daily_avg?"
   ]
  },
  {
   "cell_type": "code",
   "execution_count": null,
   "id": "2e332827",
   "metadata": {},
   "outputs": [],
   "source": [
    "run_gnssrefl.daily_avg(station, medfilter=.25, ReqTracks=20, txtfile=f'{station}-dailyavg.txt')\n",
    "\n",
    "# set a variable to where the file is saved\n",
    "dailyavg_filepath = f'{refl_code_loc}/Files/{station}-dailyavg.txt'"
   ]
  },
  {
   "cell_type": "markdown",
   "id": "672fc3a5",
   "metadata": {},
   "source": [
    "* Let's plot the daily average file on each day analyzed. You can use the function read_allrh_file from the gnssrefl_helpers module to read in the file."
   ]
  },
  {
   "cell_type": "code",
   "execution_count": null,
   "id": "5600345e",
   "metadata": {},
   "outputs": [],
   "source": [
    "data = gnssrefl_helpers.read_allrh_file(dailyavg_filepath)\n",
    "# set data to pandas dataframe\n",
    "df = pd.DataFrame(data, index=None, columns=['dates', 'rh'])\n",
    "df.head()"
   ]
  },
  {
   "cell_type": "code",
   "execution_count": null,
   "id": "b55ee118",
   "metadata": {},
   "outputs": [],
   "source": [
    "# Now plot\n",
    "plt.figure(figsize=(8,8))\n",
    "g = sns.scatterplot(x='dates', y='rh', data=df, legend=False)\n",
    "g.set_title('Ross Daily Mean Reflector Height')\n",
    "g.set_ylabel('Reflector Height (m)')\n",
    "g.set_ylim(4.55, 4.26) # flip y axis so so 'up' is water levels rising\n",
    "plt.show()"
   ]
  },
  {
   "cell_type": "markdown",
   "id": "42b3d85e",
   "metadata": {},
   "source": [
    "**Extra Extra Credit:**\n",
    "\n",
    "Compare your results with the [lake gauge data.](https://www.isdm-gdsi.gc.ca/isdm-gdsi/twl-mne/inventory-inventaire/sd-ds-eng.asp?no=10220&user=isdm-gdsi&region=CA)"
   ]
  },
  {
   "cell_type": "code",
   "execution_count": null,
   "id": "4a097e50",
   "metadata": {},
   "outputs": [],
   "source": []
  }
 ],
 "metadata": {
  "kernelspec": {
   "display_name": "gnssrefl_jupyter",
   "language": "python",
   "name": "gnssrefl_jupyter"
  },
  "language_info": {
   "codemirror_mode": {
    "name": "ipython",
    "version": 3
   },
   "file_extension": ".py",
   "mimetype": "text/x-python",
   "name": "python",
   "nbconvert_exporter": "python",
   "pygments_lexer": "ipython3",
   "version": "3.9.0"
  }
 },
 "nbformat": 4,
 "nbformat_minor": 5
}
