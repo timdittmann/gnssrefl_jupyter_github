{
 "cells": [
  {
   "cell_type": "code",
   "execution_count": 1,
   "id": "08733fd1",
   "metadata": {},
   "outputs": [],
   "source": [
    "import os\n",
    "import sys\n",
    "import re\n",
    "import json                                       \n",
    "import gnssrefl.gps as g\n",
    "import gnssrefl.rinex2snr as rnx\n",
    "import gnssrefl.quickLook_function as quick\n",
    "import gnssrefl.gnssir as guts\n",
    "import matplotlib.pyplot as plt\n",
    "import pandas as pd \n",
    "import numpy as np\n",
    "import seaborn as sns; sns.set_theme(style=\"whitegrid\");\n",
    "\n",
    "from datetime import datetime\n",
    "\n",
    "bin_path = os.path.abspath(os.path.join('../bin'))\n",
    "if bin_path not in sys.path:\n",
    "    sys.path.append(bin_path)\n",
    "    \n",
    "import check_parameters \n",
    "import environment\n",
    "\n",
    "%matplotlib inline"
   ]
  },
  {
   "cell_type": "code",
   "execution_count": null,
   "id": "11245b4a",
   "metadata": {
    "pycharm": {
     "name": "#%%\n"
    }
   },
   "outputs": [],
   "source": [
    "#Making sure environment variables are set\n",
    "exists = environment.check_environment()\n",
    "if exists == False:\n",
    "    environment.set_environment()\n",
    "else:\n",
    "     print('environment variable ORBITS path is', os.environ['ORBITS'],\n",
    "          '\\nenvironment variable REFL_CODE path is', os.environ['REFL_CODE'],\n",
    "          '\\nenvironment variable EXE path is', os.environ['EXE'])\n",
    "        \n",
    "# import the crx2rnx file\n",
    "environment.download_crx2rnx()"
   ]
  },
  {
   "cell_type": "code",
   "execution_count": null,
   "id": "576dd542",
   "metadata": {},
   "outputs": [],
   "source": [
    "### Niwot Ridge, Colorado, USA\n",
    "\n",
    "**Station name:** nwot\n",
    "\n",
    "**Location:** [Niwot Ridge LTER](https://nwt.lternet.edu)\n",
    "\n",
    "**Archive:** [UNAVCO](https://www.unavco.org)\n",
    "\n",
    "**Ellipsoidal Coordinates:**\n",
    "\n",
    "- Latitude: 40.05539 \n",
    "\n",
    "- Longitude: -105.59053\n",
    "\n",
    "- Height(m): 3522.729 \n",
    "\n",
    "[UNAVCO station page](https://www.unavco.org/instrumentation/networks/status/nota/overview/NWOT)\n"
   ]
  },
  {
   "cell_type": "markdown",
   "id": "c64be8b6",
   "metadata": {},
   "source": [
    "### Niwot Ridge, Colorado, USA\n",
    "\n",
    "**Station name:** nwot\n",
    "\n",
    "**Location:** [Niwot Ridge LTER](https://nwt.lternet.edu)\n",
    "\n",
    "**Archive:** [UNAVCO](https://www.unavco.org)\n",
    "\n",
    "**Ellipsoidal Coordinates:**\n",
    "\n",
    "- Latitude: 40.05539 \n",
    "\n",
    "- Longitude: -105.59053\n",
    "\n",
    "- Height(m): 3522.729 \n",
    "\n",
    "[UNAVCO station page](https://www.unavco.org/instrumentation/networks/status/nota/overview/NWOT)\n"
   ]
  },
  {
   "cell_type": "markdown",
   "id": "2fc9defa",
   "metadata": {},
   "source": [
    "### Data Summary\n",
    "\n",
    "Station nwot was originally installed/designed by Jim Normandeau (UNAVCO) to support GPS reflections research \n",
    "by Kristine Larson, Eric Small, Ethan Gutmann, Felipe Nievinski, and Mark Williams at the University of Colorado. \n",
    "The site was hosted by the Niwot Ridge LTER. \n",
    "\n",
    "NWOT was deliberately made to be taller than the typical geodetic antenna so that it would never be \n",
    "buried by snow. It is approximately 3 meters above \n",
    "the bare soil surface.  Because it was installed to support testing GPS reflections, NWOT has always tracked L2C.\n",
    "nwot was also part of [PBO H2O](http://cires1.colorado.edu/portal/?station=nwot).\n",
    "\n",
    "<img src=\"https://www.unavco.org/data/gps-gnss/lib/images/station_images/NWOT.jpg\" width=500/>\n",
    "\n",
    "The site has generally not been used by geodesists and there is very little useful information \n",
    "about when data are available at either UNAVCO or Nevada Reno (i.e. no time series).\n",
    "After the original receiver failed in spring 2015, a new receiver was installed in late 2016 by \n",
    "Mark Raleigh (then at CIRES, now at the University Oregon). Though the nwot receiver \n",
    "may be tracking now, it has not been downloaded in some time and there is no working telemetry.\n",
    "We will focus on the data between 2009-2015."
   ]
  },
  {
   "cell_type": "markdown",
   "id": "a0eb1ae5",
   "metadata": {},
   "source": [
    "### Make a SNR File and run quickLook\n",
    "\n",
    "We will start by making a single SNR file. \n",
    "Here there are two options. The main archive for this dataset only provides the high-quality\n",
    "L2C data in the highrate (1-sec) area. We do not need this sample rate for GPS reflectometry,\n",
    "so to speed things up, we strongly encourage you to use the \"special\" archive option.  Here\n",
    "the 1-sec data have been decimated to 15 seconds:"
   ]
  },
  {
   "cell_type": "code",
   "execution_count": null,
   "id": "0e062e46",
   "metadata": {},
   "outputs": [],
   "source": [
    "station = 'nwot'\n",
    "year = 2014 \n",
    "doy = 270\n",
    "\n",
    "lat = 40.055\n",
    "long = -105.591\n",
    "height = 3522.449"
   ]
  },
  {
   "cell_type": "code",
   "execution_count": null,
   "id": "4e9d5a7c",
   "metadata": {},
   "outputs": [],
   "source": [
    "# To understand what rinex2snr returns, you can uncomment the next line of code to learn more about this function \n",
    "# and it's default parameters\n",
    "# check_parameters.rinex2snr?\n",
    "args = check_parameters.rinex2snr(station, year, doy, archive='special', translator='hybrid')\n",
    "rnx.run_rinex2snr(**args)"
   ]
  },
  {
   "cell_type": "markdown",
   "id": "7f6417fc",
   "metadata": {},
   "source": [
    "Both L1 and L2C signals can be used at this site, though the L2C data are far superior in quality\n",
    "to the L1 data. Use this **quickLook** command to get a sense of the quality of the \n",
    "reflector height (RH) retrievals. First L1:"
   ]
  },
  {
   "cell_type": "code",
   "execution_count": null,
   "id": "842e1385",
   "metadata": {},
   "outputs": [],
   "source": [
    "# making a plotting function for the quicklook function\n",
    "def quicklook_results(args, values):\n",
    "    fig, ax = plt.subplots(ncols=2, nrows=2, figsize=(10,10))\n",
    "    quadrants = ['NW', 'NE', 'SW', 'SE']\n",
    "    axes = [ax[0,0], ax[0,1], ax[1,0], ax[1,1]]\n",
    "\n",
    "    for i, quadrant in enumerate(quadrants):\n",
    "        satellites = values[quadrant].keys()\n",
    "        fail_satellites = values[f'f{quadrant}'].keys()\n",
    "\n",
    "        for failsat in fail_satellites:\n",
    "            axes[i].plot(values[f'f{quadrant}'][failsat][0], values[f'f{quadrant}'][failsat][1], color='lightgrey') \n",
    "        for sat in satellites:\n",
    "            axes[i].plot(values[quadrant][sat][0], values[quadrant][sat][1])\n",
    "\n",
    "    ax[0,0].set_title('Northwest', size=14)\n",
    "    ax[0,1].set_title('Northeast',size=14)\n",
    "    ax[1,0].set_title('Southwest', size=14)\n",
    "    ax[1,1].set_title('Southeast', size=14)\n",
    "\n",
    "    for ax in axes:\n",
    "        ax.set_xlabel('reflector height (m)', size=14)\n",
    "        ax.set_ylabel('volts/volts', size=14)\n",
    "        ax.grid()\n",
    "    \n",
    "    fig.suptitle(f'GNSS Station {args[\"station\"].upper()}, {args[\"year\"]} doy {args[\"doy\"]}, freq L1, elevation angles {args[\"e1\"]}-{args[\"e2\"]} \\n', size=16)\n",
    "    fig.tight_layout()\n",
    "    plt.show()\n",
    "    \n",
    "    \n",
    "def quicklook_metrics(args, values):\n",
    "#     fig, ax = plt.subplots(ncols=1, nrows=3, figsize=(10,10), sharex=True)\n",
    "    quadrants = ['NW', 'NE', 'SW', 'SE']\n",
    "    \n",
    "    # re-organizing the data in a plotting friendly format\n",
    "    success_data = {'Azimuth': [], 'Reflector Height': [], 'Peak to Noise':[], 'Amplitude': []}\n",
    "    fail_data =  {'Azimuth': [], 'Reflector Height': [], 'Peak to Noise': [], 'Amplitude': []}\n",
    "    \n",
    "    for i, quadrant in enumerate(quadrants):\n",
    "        for j in values[quadrant].keys():\n",
    "            success_data['Azimuth'].append(datakeys[quadrant][j][0])\n",
    "            success_data['Reflector Height'].append(datakeys[quadrant][j][1])\n",
    "            success_data['Peak to Noise'].append(datakeys[quadrant][j][5])\n",
    "            success_data['Amplitude'].append(datakeys[quadrant][j][4])\n",
    "        for k in values[f'f{quadrant}'].keys():\n",
    "            fail_data['Azimuth'].append(datakeys[f'f{quadrant}'][k][0])\n",
    "            fail_data['Reflector Height'].append(datakeys[f'f{quadrant}'][k][1])\n",
    "            fail_data['Peak to Noise'].append(datakeys[f'f{quadrant}'][k][5])\n",
    "            fail_data['Amplitude'].append(datakeys[f'f{quadrant}'][k][4])\n",
    "\n",
    "    return pd.DataFrame(success_data), pd.DataFrame(fail_data)   "
   ]
  },
  {
   "cell_type": "code",
   "execution_count": null,
   "id": "6e18b167",
   "metadata": {},
   "outputs": [],
   "source": [
    "args = check_parameters.quicklook(station, year, doy=doy)\n",
    "values, datakeys = quick.quickLook_function(**args)\n",
    "quicklook_results(args, values)"
   ]
  },
  {
   "cell_type": "code",
   "execution_count": null,
   "id": "beb7fe72",
   "metadata": {},
   "outputs": [],
   "source": [
    "success, fail = quicklook_metrics(args, datakeys)\n",
    "fig, axes = plt.subplots(ncols=1, nrows=3, figsize=(10,10), sharex=True)\n",
    "fig.suptitle(f'QuickLook Retrieval Metrics: {args[\"station\"]} GPS L1', size=16)\n",
    "\n",
    "for i, ax in enumerate(axes):\n",
    "    g = sns.scatterplot(x='Azimuth',y=success.columns[i+1], data=success, ax=ax, label='good')\n",
    "    g = sns.scatterplot(x='Azimuth',y=fail.columns[i+1], data=fail, ax=ax, color='lightgrey', label='bad')\n",
    "    \n",
    "# axes[0].legend(loc='upper right')\n",
    "# avg_rh = np.mean(success['Reflector Height'])\n",
    "# qc_val_peak2noise = round(min(success['Peak to Noise']))\n",
    "# axes[1].axhline(qc_val_peak2noise, linestyle='--', color='black', label='QC value used')\n",
    "# qc_val_amp = round(min(success['Amplitude']))\n",
    "# axes[2].axhline(qc_val_amp, linestyle='--', color='black', label='QC value used')\n",
    "print(f'Average reflector height value: {avg_rh:.1f}')\n",
    "# print('QC value for peak to noise:', qc_val_peak2noise)\n",
    "# print('QC value for amplitude:', qc_val_amp)\n",
    "\n",
    "plt.tight_layout()\n",
    "plt.show()"
   ]
  },
  {
   "cell_type": "markdown",
   "id": "6ce789d2",
   "metadata": {},
   "source": [
    "These periodograms are a bit ratty in the low RH area. There are \n",
    "nice strong peaks in the southern quadrants. Now try L2C:"
   ]
  },
  {
   "cell_type": "code",
   "execution_count": null,
   "id": "62d4f33b",
   "metadata": {},
   "outputs": [],
   "source": [
    "args = check_parameters.quicklook(station, year, doy=doy, f=20)\n",
    "values, datakeys = quick.quickLook_function(**args)\n",
    "quicklook_results(args, values)"
   ]
  },
  {
   "cell_type": "code",
   "execution_count": null,
   "id": "ee2e001f",
   "metadata": {},
   "outputs": [],
   "source": [
    "success, fail = quicklook_metrics(args, datakeys)\n",
    "fig, axes = plt.subplots(ncols=1, nrows=3, figsize=(10,10), sharex=True)\n",
    "fig.suptitle(f'QuickLook Retrieval Metrics: {args[\"station\"]} GPS L1', size=16)\n",
    "\n",
    "for i, ax in enumerate(axes):\n",
    "    g = sns.scatterplot(x='Azimuth',y=success.columns[i+1], data=success, ax=ax, label='good')\n",
    "    g = sns.scatterplot(x='Azimuth',y=fail.columns[i+1], data=fail, ax=ax, color='lightgrey', label='bad')\n",
    "    \n",
    "# axes[0].legend(loc='upper right')\n",
    "# avg_rh = np.mean(success['Reflector Height'])\n",
    "# qc_val_peak2noise = round(min(success['Peak to Noise']))\n",
    "# axes[1].axhline(qc_val_peak2noise, linestyle='--', color='black', label='QC value used')\n",
    "# qc_val_amp = round(min(success['Amplitude']))\n",
    "# axes[2].axhline(qc_val_amp, linestyle='--', color='black', label='QC value used')\n",
    "print(f'Average reflector height value: {avg_rh:.1f}')\n",
    "# print('QC value for peak to noise:', qc_val_peak2noise)\n",
    "# print('QC value for amplitude:', qc_val_amp)\n",
    "\n",
    "plt.tight_layout()\n",
    "plt.show()"
   ]
  },
  {
   "cell_type": "markdown",
   "id": "6bad86a9",
   "metadata": {},
   "source": [
    "### Make multiple years of SNR files \n",
    "\n",
    "We are going to look at the data from installation (Fall 2009) through Spring 2015. To speed things\n",
    "up I will run 2009 and 2015 separately, while the year 2010 through 2014 can be analyzed in \n",
    "one line:"
   ]
  },
  {
   "cell_type": "code",
   "execution_count": null,
   "id": "17e95e3e",
   "metadata": {},
   "outputs": [],
   "source": [
    "args = check_parameters.rinex2snr(station, year=2009, doy=240, doy_end=365, archive='special', translator='fortran')\n",
    "rnx.run_rinex2snr(**args)\n",
    "\n",
    "args = check_parameters.rinex2snr(station, year=2010, doy=1, doy_end=366, archive='special', year_end=2014, translator='fortran')\n",
    "rnx.run_rinex2snr(**args)\n",
    "\n",
    "args = check_parameters.rinex2snr(station, year=2015, doy=1, doy_end=120, archive='special', translator='fortran')\n",
    "rnx.run_rinex2snr(**args)"
   ]
  },
  {
   "cell_type": "markdown",
   "id": "5c586c07",
   "metadata": {},
   "source": [
    "### Run gnssir for multiple years\n",
    "Make a json file for your **gnssir** analysis:"
   ]
  },
  {
   "cell_type": "code",
   "execution_count": null,
   "id": "ad3c51b3",
   "metadata": {},
   "outputs": [],
   "source": [
    "check_parameters.make_json(station, lat, long, height, e1=7, peak2noise=3.2, ampl=8)"
   ]
  },
  {
   "cell_type": "markdown",
   "id": "5d811b41",
   "metadata": {},
   "source": [
    "I have opted to only use the southern quadrants (azimuths 90 through 270). Note that since\n",
    "L5 was not tracked at this site, it is not listed in the json file. I am using a minimum elevation\n",
    "angle of 7 degrees because this particular receiver had a limit on the number of satellites it\n",
    "could track. In some cases this meant the low elevation data are not available and that triggers\n",
    "QC restrictions."
   ]
  },
  {
   "cell_type": "code",
   "execution_count": null,
   "id": "a93e8d31",
   "metadata": {},
   "outputs": [],
   "source": [
    "# This is the json file that was created\n",
    "json_file = 'input/nwot.json'\n",
    "with open(json_file, \"r\") as myfile:\n",
    "    file = json.load(myfile)\n",
    "    file['azval'] = [90, 180, 180, 270]\n",
    "    file['freqs'] = [1,20]\n",
    "    file['reqAmp'] = [8,8]\n",
    "os.remove(json_file)\n",
    "with open(json_file, 'w') as f:\n",
    "    json.dump(file, f, indent=4)\n",
    "    \n",
    "with open(json_file, \"r\") as myfile:\n",
    "    file = json.load(myfile)\n",
    "\n",
    "file"
   ]
  },
  {
   "cell_type": "markdown",
   "id": "fe67b59d",
   "metadata": {},
   "source": [
    "Once you have a json file set up, run gnssir for the years 2009-2015:"
   ]
  },
  {
   "cell_type": "code",
   "execution_count": null,
   "id": "708c5f01",
   "metadata": {},
   "outputs": [],
   "source": [
    "check_parameters.gnssir?"
   ]
  },
  {
   "cell_type": "code",
   "execution_count": null,
   "id": "0269f838",
   "metadata": {},
   "outputs": [],
   "source": [
    "year = 2009\n",
    "doy = 1\n",
    "doy_end = 365\n",
    "year_end = 2015 \n",
    "plt=False\n",
    "args = check_parameters.gnssir(station, year, doy, doy_end=doy_end, year_end=year_end, plt=plt, screenstats=False)\n",
    "args\n",
    "year_list = list(range(year, args['year_end'] + 1))\n",
    "doy_list = list(range(doy, args['doy_end'] + 1))\n",
    "for year in year_list:\n",
    "    args['args']['year'] = year\n",
    "    for doy in doy_list:\n",
    "        args['args']['doy'] = doy\n",
    "        guts.gnssir_guts(**args['args'])"
   ]
  },
  {
   "cell_type": "markdown",
   "id": "5b0bc2a1",
   "metadata": {},
   "source": [
    "## Compute daily average RH values\n",
    "Use the daily_avg utility to compute RH for each day. A median filter of 0.25 meter is used\n",
    "to eliminate large outliers and a minimum number of tracks is set to 10. This is relatively\n",
    "low because of the small number of L2C transmitting satellites in the early years of\n",
    "the dataset. The year inputs here are optional."
   ]
  },
  {
   "cell_type": "code",
   "execution_count": null,
   "id": "7a7bf2bd",
   "metadata": {},
   "outputs": [],
   "source": [
    "check_parameters.daily_avg(station, medfilter=.25, ReqTracks=10, year1=2009, year2=2015, plt2screen=False, txtfile='nwot-dailyavg.txt')"
   ]
  },
  {
   "cell_type": "code",
   "execution_count": null,
   "id": "9bff2704",
   "metadata": {},
   "outputs": [],
   "source": [
    "import matplotlib.pyplot as plt\n",
    "def read_allRH_file(filepath, regex):\n",
    "    data = {'dates': [], 'rh': []}\n",
    "    #read daily average reflector heights\n",
    "    with open(f'{refl_code_dir}{filepath}', 'r') as myfile:\n",
    "        file = myfile.read()\n",
    "        matches = re.finditer(regex, file, flags=re.MULTILINE)\n",
    "\n",
    "        for match in matches:\n",
    "            ydoy = f'{int(match.group(\"year\"))}-{int(match.group(\"doy\"))}'\n",
    "            date = datetime.strptime(ydoy, '%Y-%j').date()\n",
    "            data['dates'].append(date)\n",
    "            data['rh'].append(float(match.group('rh')))\n",
    "            \n",
    "    return data\n",
    "\n",
    "regex = '^ (?P<year>[ \\d]+) +(?P<doy>[\\d]+) +(?P<rh>[\\d|-|.]+)'\n",
    "filepath = f'/Files/{station}_allRH.txt'\n",
    "data = read_allRH_file(filepath, regex)\n",
    "\n",
    "df = pd.DataFrame(data, index=None, columns=['dates', 'rh'])\n",
    "plt.figure(figsize=(8,8))\n",
    "g = sns.scatterplot(x='dates', y='rh', data=df, hue='dates', palette='colorblind', legend=False)\n",
    "g.set_ylim()\n",
    "g.set_ylabel('Reflector Height (m)');"
   ]
  },
  {
   "cell_type": "code",
   "execution_count": null,
   "id": "42b2603a",
   "metadata": {},
   "outputs": [],
   "source": [
    "plt.figure(figsize=(8,8))\n",
    "df_group = df.groupby(['dates']).agg(['count'])\n",
    "g = sns.scatterplot(data=df_group)\n",
    "g.set_title('Number of values used in the daily average', size=16);"
   ]
  },
  {
   "cell_type": "code",
   "execution_count": null,
   "id": "bbe511fe",
   "metadata": {},
   "outputs": [],
   "source": [
    "regex = '^ (?P<year>[ \\d]+) +(?P<doy>[\\d]+) +(?P<rh>[\\d|-|.]+)'\n",
    "filepath = f'/Files/{station}-dailyavg.txt'\n",
    "data = read_allRH_file(filepath, regex)\n",
    "df = pd.DataFrame(data, index=None, columns=['dates', 'rh'])"
   ]
  },
  {
   "cell_type": "code",
   "execution_count": null,
   "id": "d77486bf",
   "metadata": {},
   "outputs": [],
   "source": [
    "plt.figure(figsize=(8,8))\n",
    "g = sns.scatterplot(x='dates', y='rh', data=df, legend=False)\n",
    "g.set_ylim(3.4,.5)\n",
    "g.set_ylabel('Reflector Height (m)');"
   ]
  },
  {
   "cell_type": "markdown",
   "id": "54e42e37",
   "metadata": {},
   "source": [
    "We installed the GPS site at Niwot Ridge because there was a long-standing experiment \n",
    "for measuring snow depth (and snow water equivalent). We therefore have a way to assess\n",
    "accuracy. We download the *in situ* data from \n",
    "the [Niwot Ridge facility.](https://portal.edirepository.org/nis/mapbrowse?scope=knb-lter-nwt&identifier=34)\n",
    "We will compare to pole 16, which is shown in the photograph above. \n",
    "The relevant Niwot Ridge csv file is provided here: \n",
    "\n",
    "[in situ data from the Niwot Ridge LTER](saddsnow.dw.data.csv)\n",
    "\n",
    "If the daily average RH file created above is stored in the same directory \n",
    "as the Niwot Ridge *in situ* datafile, you can use \n",
    "[this python script](nwot_usecase.py) to visually compare them:"
   ]
  },
  {
   "cell_type": "code",
   "execution_count": null,
   "id": "008ac7ef",
   "metadata": {},
   "outputs": [],
   "source": []
  }
 ],
 "metadata": {
  "kernelspec": {
   "display_name": "gnssrefl_jupyter",
   "language": "python",
   "name": "gnssrefl_jupyter"
  },
  "language_info": {
   "codemirror_mode": {
    "name": "ipython",
    "version": 3
   },
   "file_extension": ".py",
   "mimetype": "text/x-python",
   "name": "python",
   "nbconvert_exporter": "python",
   "pygments_lexer": "ipython3",
   "version": "3.9.0"
  }
 },
 "nbformat": 4,
 "nbformat_minor": 5
}